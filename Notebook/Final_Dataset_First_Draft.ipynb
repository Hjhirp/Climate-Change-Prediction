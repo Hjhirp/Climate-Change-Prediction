{
  "nbformat": 4,
  "nbformat_minor": 0,
  "metadata": {
    "colab": {
      "provenance": [],
      "include_colab_link": true
    },
    "kernelspec": {
      "name": "python3",
      "display_name": "Python 3"
    },
    "language_info": {
      "name": "python"
    },
    "widgets": {
      "application/vnd.jupyter.widget-state+json": {
        "c71bad06c3ce486db480ebc5c2284f80": {
          "model_module": "@jupyter-widgets/controls",
          "model_name": "HBoxModel",
          "model_module_version": "1.5.0",
          "state": {
            "_view_name": "HBoxView",
            "_dom_classes": [],
            "_model_name": "HBoxModel",
            "_view_module": "@jupyter-widgets/controls",
            "_model_module_version": "1.5.0",
            "_view_count": null,
            "_view_module_version": "1.5.0",
            "box_style": "",
            "layout": "IPY_MODEL_3850a704ec144b19aed62af769d9c2d3",
            "_model_module": "@jupyter-widgets/controls",
            "children": [
              "IPY_MODEL_a767ffc380dd4a379f30566c50deb9ff",
              "IPY_MODEL_0d95f418401c498dacfe701aa49a7fd9",
              "IPY_MODEL_4b157bfe51514e56a68fabcd831054a8"
            ]
          }
        },
        "3850a704ec144b19aed62af769d9c2d3": {
          "model_module": "@jupyter-widgets/base",
          "model_name": "LayoutModel",
          "model_module_version": "1.2.0",
          "state": {
            "_view_name": "LayoutView",
            "grid_template_rows": null,
            "right": null,
            "justify_content": null,
            "_view_module": "@jupyter-widgets/base",
            "overflow": null,
            "_model_module_version": "1.2.0",
            "_view_count": null,
            "flex_flow": null,
            "width": null,
            "min_width": null,
            "border": null,
            "align_items": null,
            "bottom": null,
            "_model_module": "@jupyter-widgets/base",
            "top": null,
            "grid_column": null,
            "overflow_y": null,
            "overflow_x": null,
            "grid_auto_flow": null,
            "grid_area": null,
            "grid_template_columns": null,
            "flex": null,
            "_model_name": "LayoutModel",
            "justify_items": null,
            "grid_row": null,
            "max_height": null,
            "align_content": null,
            "visibility": null,
            "align_self": null,
            "height": null,
            "min_height": null,
            "padding": null,
            "grid_auto_rows": null,
            "grid_gap": null,
            "max_width": null,
            "order": null,
            "_view_module_version": "1.2.0",
            "grid_template_areas": null,
            "object_position": null,
            "object_fit": null,
            "grid_auto_columns": null,
            "margin": null,
            "display": null,
            "left": null
          }
        },
        "a767ffc380dd4a379f30566c50deb9ff": {
          "model_module": "@jupyter-widgets/controls",
          "model_name": "HTMLModel",
          "model_module_version": "1.5.0",
          "state": {
            "_view_name": "HTMLView",
            "style": "IPY_MODEL_11816d2e907e436ea82942d420e9cc1f",
            "_dom_classes": [],
            "description": "",
            "_model_name": "HTMLModel",
            "placeholder": "​",
            "_view_module": "@jupyter-widgets/controls",
            "_model_module_version": "1.5.0",
            "value": "  0%",
            "_view_count": null,
            "_view_module_version": "1.5.0",
            "description_tooltip": null,
            "_model_module": "@jupyter-widgets/controls",
            "layout": "IPY_MODEL_4fce7ad71c7f4111bad55e62ae246bcf"
          }
        },
        "0d95f418401c498dacfe701aa49a7fd9": {
          "model_module": "@jupyter-widgets/controls",
          "model_name": "FloatProgressModel",
          "model_module_version": "1.5.0",
          "state": {
            "_view_name": "ProgressView",
            "style": "IPY_MODEL_64e8a02e68f14b42b4d731464dbc6535",
            "_dom_classes": [],
            "description": "",
            "_model_name": "FloatProgressModel",
            "bar_style": "danger",
            "max": 3,
            "_view_module": "@jupyter-widgets/controls",
            "_model_module_version": "1.5.0",
            "value": 0,
            "_view_count": null,
            "_view_module_version": "1.5.0",
            "orientation": "horizontal",
            "min": 0,
            "description_tooltip": null,
            "_model_module": "@jupyter-widgets/controls",
            "layout": "IPY_MODEL_84aa851d349e4551b2649576924d342f"
          }
        },
        "4b157bfe51514e56a68fabcd831054a8": {
          "model_module": "@jupyter-widgets/controls",
          "model_name": "HTMLModel",
          "model_module_version": "1.5.0",
          "state": {
            "_view_name": "HTMLView",
            "style": "IPY_MODEL_744015647f0641769e842516f6291187",
            "_dom_classes": [],
            "description": "",
            "_model_name": "HTMLModel",
            "placeholder": "​",
            "_view_module": "@jupyter-widgets/controls",
            "_model_module_version": "1.5.0",
            "value": " 0/3 [00:00&lt;?, ?it/s]",
            "_view_count": null,
            "_view_module_version": "1.5.0",
            "description_tooltip": null,
            "_model_module": "@jupyter-widgets/controls",
            "layout": "IPY_MODEL_3bd211bfe5354844a95fb1a452450d05"
          }
        },
        "11816d2e907e436ea82942d420e9cc1f": {
          "model_module": "@jupyter-widgets/controls",
          "model_name": "DescriptionStyleModel",
          "model_module_version": "1.5.0",
          "state": {
            "_view_name": "StyleView",
            "_model_name": "DescriptionStyleModel",
            "description_width": "",
            "_view_module": "@jupyter-widgets/base",
            "_model_module_version": "1.5.0",
            "_view_count": null,
            "_view_module_version": "1.2.0",
            "_model_module": "@jupyter-widgets/controls"
          }
        },
        "4fce7ad71c7f4111bad55e62ae246bcf": {
          "model_module": "@jupyter-widgets/base",
          "model_name": "LayoutModel",
          "model_module_version": "1.2.0",
          "state": {
            "_view_name": "LayoutView",
            "grid_template_rows": null,
            "right": null,
            "justify_content": null,
            "_view_module": "@jupyter-widgets/base",
            "overflow": null,
            "_model_module_version": "1.2.0",
            "_view_count": null,
            "flex_flow": null,
            "width": null,
            "min_width": null,
            "border": null,
            "align_items": null,
            "bottom": null,
            "_model_module": "@jupyter-widgets/base",
            "top": null,
            "grid_column": null,
            "overflow_y": null,
            "overflow_x": null,
            "grid_auto_flow": null,
            "grid_area": null,
            "grid_template_columns": null,
            "flex": null,
            "_model_name": "LayoutModel",
            "justify_items": null,
            "grid_row": null,
            "max_height": null,
            "align_content": null,
            "visibility": null,
            "align_self": null,
            "height": null,
            "min_height": null,
            "padding": null,
            "grid_auto_rows": null,
            "grid_gap": null,
            "max_width": null,
            "order": null,
            "_view_module_version": "1.2.0",
            "grid_template_areas": null,
            "object_position": null,
            "object_fit": null,
            "grid_auto_columns": null,
            "margin": null,
            "display": null,
            "left": null
          }
        },
        "64e8a02e68f14b42b4d731464dbc6535": {
          "model_module": "@jupyter-widgets/controls",
          "model_name": "ProgressStyleModel",
          "model_module_version": "1.5.0",
          "state": {
            "_view_name": "StyleView",
            "_model_name": "ProgressStyleModel",
            "description_width": "",
            "_view_module": "@jupyter-widgets/base",
            "_model_module_version": "1.5.0",
            "_view_count": null,
            "_view_module_version": "1.2.0",
            "bar_color": null,
            "_model_module": "@jupyter-widgets/controls"
          }
        },
        "84aa851d349e4551b2649576924d342f": {
          "model_module": "@jupyter-widgets/base",
          "model_name": "LayoutModel",
          "model_module_version": "1.2.0",
          "state": {
            "_view_name": "LayoutView",
            "grid_template_rows": null,
            "right": null,
            "justify_content": null,
            "_view_module": "@jupyter-widgets/base",
            "overflow": null,
            "_model_module_version": "1.2.0",
            "_view_count": null,
            "flex_flow": null,
            "width": null,
            "min_width": null,
            "border": null,
            "align_items": null,
            "bottom": null,
            "_model_module": "@jupyter-widgets/base",
            "top": null,
            "grid_column": null,
            "overflow_y": null,
            "overflow_x": null,
            "grid_auto_flow": null,
            "grid_area": null,
            "grid_template_columns": null,
            "flex": null,
            "_model_name": "LayoutModel",
            "justify_items": null,
            "grid_row": null,
            "max_height": null,
            "align_content": null,
            "visibility": null,
            "align_self": null,
            "height": null,
            "min_height": null,
            "padding": null,
            "grid_auto_rows": null,
            "grid_gap": null,
            "max_width": null,
            "order": null,
            "_view_module_version": "1.2.0",
            "grid_template_areas": null,
            "object_position": null,
            "object_fit": null,
            "grid_auto_columns": null,
            "margin": null,
            "display": null,
            "left": null
          }
        },
        "744015647f0641769e842516f6291187": {
          "model_module": "@jupyter-widgets/controls",
          "model_name": "DescriptionStyleModel",
          "model_module_version": "1.5.0",
          "state": {
            "_view_name": "StyleView",
            "_model_name": "DescriptionStyleModel",
            "description_width": "",
            "_view_module": "@jupyter-widgets/base",
            "_model_module_version": "1.5.0",
            "_view_count": null,
            "_view_module_version": "1.2.0",
            "_model_module": "@jupyter-widgets/controls"
          }
        },
        "3bd211bfe5354844a95fb1a452450d05": {
          "model_module": "@jupyter-widgets/base",
          "model_name": "LayoutModel",
          "model_module_version": "1.2.0",
          "state": {
            "_view_name": "LayoutView",
            "grid_template_rows": null,
            "right": null,
            "justify_content": null,
            "_view_module": "@jupyter-widgets/base",
            "overflow": null,
            "_model_module_version": "1.2.0",
            "_view_count": null,
            "flex_flow": null,
            "width": null,
            "min_width": null,
            "border": null,
            "align_items": null,
            "bottom": null,
            "_model_module": "@jupyter-widgets/base",
            "top": null,
            "grid_column": null,
            "overflow_y": null,
            "overflow_x": null,
            "grid_auto_flow": null,
            "grid_area": null,
            "grid_template_columns": null,
            "flex": null,
            "_model_name": "LayoutModel",
            "justify_items": null,
            "grid_row": null,
            "max_height": null,
            "align_content": null,
            "visibility": null,
            "align_self": null,
            "height": null,
            "min_height": null,
            "padding": null,
            "grid_auto_rows": null,
            "grid_gap": null,
            "max_width": null,
            "order": null,
            "_view_module_version": "1.2.0",
            "grid_template_areas": null,
            "object_position": null,
            "object_fit": null,
            "grid_auto_columns": null,
            "margin": null,
            "display": null,
            "left": null
          }
        }
      }
    }
  },
  "cells": [
    {
      "cell_type": "markdown",
      "metadata": {
        "id": "view-in-github",
        "colab_type": "text"
      },
      "source": [
        "<a href=\"https://colab.research.google.com/github/Hjhirp/Climate-Change-Prediction/blob/main/Notebook/Final_Dataset_First_Draft.ipynb\" target=\"_parent\"><img src=\"https://colab.research.google.com/assets/colab-badge.svg\" alt=\"Open In Colab\"/></a>"
      ]
    },
    {
      "cell_type": "code",
      "execution_count": null,
      "metadata": {
        "id": "9TS6mJ6hLtOT"
      },
      "outputs": [],
      "source": [
        "import numpy as np\n",
        "import pandas as pd\n",
        "import seaborn as sns\n",
        "import matplotlib.pyplot as plt\n",
        "from matplotlib.pyplot import figure"
      ]
    },
    {
      "cell_type": "code",
      "source": [
        "from google.colab import drive\n",
        "drive.mount('/content/drive')"
      ],
      "metadata": {
        "colab": {
          "base_uri": "https://localhost:8080/"
        },
        "id": "lrp9dzTvXrag",
        "outputId": "4711c4a1-aa05-4796-e2b3-1d53133ad2a9"
      },
      "execution_count": null,
      "outputs": [
        {
          "output_type": "stream",
          "name": "stdout",
          "text": [
            "Drive already mounted at /content/drive; to attempt to forcibly remount, call drive.mount(\"/content/drive\", force_remount=True).\n"
          ]
        }
      ]
    },
    {
      "cell_type": "code",
      "source": [
        "%cd /content/drive/MyDrive/OMDENA SV\n",
        "# %cd /content/drive/MyDrive/datasets"
      ],
      "metadata": {
        "colab": {
          "base_uri": "https://localhost:8080/"
        },
        "id": "H9INW1bXXx7J",
        "outputId": "7653c406-940b-45d8-c5a8-54315866c679"
      },
      "execution_count": null,
      "outputs": [
        {
          "output_type": "stream",
          "name": "stdout",
          "text": [
            "/content/drive/MyDrive/OMDENA SV\n"
          ]
        }
      ]
    },
    {
      "cell_type": "code",
      "source": [
        "df = pd.read_csv('train.csv')"
      ],
      "metadata": {
        "id": "3IGkKllZNELE"
      },
      "execution_count": null,
      "outputs": []
    },
    {
      "cell_type": "code",
      "source": [
        "df.shape"
      ],
      "metadata": {
        "colab": {
          "base_uri": "https://localhost:8080/"
        },
        "id": "vV7b_1QTNKKc",
        "outputId": "fc0cf9f3-7761-42b7-f46b-d894a2c77189"
      },
      "execution_count": null,
      "outputs": [
        {
          "output_type": "execute_result",
          "data": {
            "text/plain": [
              "(75757, 64)"
            ]
          },
          "metadata": {},
          "execution_count": 52
        }
      ]
    },
    {
      "cell_type": "code",
      "source": [
        "df.columns"
      ],
      "metadata": {
        "colab": {
          "base_uri": "https://localhost:8080/"
        },
        "id": "PFo1gK0jNZNg",
        "outputId": "4b0b8a42-21b9-4393-ef79-614bda5891cd"
      },
      "execution_count": null,
      "outputs": [
        {
          "output_type": "execute_result",
          "data": {
            "text/plain": [
              "Index(['Year_Factor', 'State_Factor', 'building_class', 'facility_type',\n",
              "       'floor_area', 'year_built', 'energy_star_rating', 'ELEVATION',\n",
              "       'january_min_temp', 'january_avg_temp', 'january_max_temp',\n",
              "       'february_min_temp', 'february_avg_temp', 'february_max_temp',\n",
              "       'march_min_temp', 'march_avg_temp', 'march_max_temp', 'april_min_temp',\n",
              "       'april_avg_temp', 'april_max_temp', 'may_min_temp', 'may_avg_temp',\n",
              "       'may_max_temp', 'june_min_temp', 'june_avg_temp', 'june_max_temp',\n",
              "       'july_min_temp', 'july_avg_temp', 'july_max_temp', 'august_min_temp',\n",
              "       'august_avg_temp', 'august_max_temp', 'september_min_temp',\n",
              "       'september_avg_temp', 'september_max_temp', 'october_min_temp',\n",
              "       'october_avg_temp', 'october_max_temp', 'november_min_temp',\n",
              "       'november_avg_temp', 'november_max_temp', 'december_min_temp',\n",
              "       'december_avg_temp', 'december_max_temp', 'cooling_degree_days',\n",
              "       'heating_degree_days', 'precipitation_inches', 'snowfall_inches',\n",
              "       'snowdepth_inches', 'avg_temp', 'days_below_30F', 'days_below_20F',\n",
              "       'days_below_10F', 'days_below_0F', 'days_above_80F', 'days_above_90F',\n",
              "       'days_above_100F', 'days_above_110F', 'direction_max_wind_speed',\n",
              "       'direction_peak_wind_speed', 'max_wind_speed', 'days_with_fog',\n",
              "       'site_eui', 'id'],\n",
              "      dtype='object')"
            ]
          },
          "metadata": {},
          "execution_count": 53
        }
      ]
    },
    {
      "cell_type": "markdown",
      "source": [
        "### Dropping 1"
      ],
      "metadata": {
        "id": "p7MvXvYST_zi"
      }
    },
    {
      "cell_type": "code",
      "source": [
        "Drop = ['building_class','avg_temp','days_above_100F','days_above_110F','direction_max_wind_speed',\n",
        "       'direction_peak_wind_speed', 'max_wind_speed','id']"
      ],
      "metadata": {
        "id": "ok96D_O7NMG_"
      },
      "execution_count": null,
      "outputs": []
    },
    {
      "cell_type": "code",
      "source": [
        "train_data= df.drop(Drop,axis =1)"
      ],
      "metadata": {
        "id": "skOR9MGpO88W"
      },
      "execution_count": null,
      "outputs": []
    },
    {
      "cell_type": "code",
      "source": [
        "print(len(df.columns))\n",
        "print(len(train_data.columns))"
      ],
      "metadata": {
        "colab": {
          "base_uri": "https://localhost:8080/"
        },
        "id": "80Xkp9q3POba",
        "outputId": "1a49ef8a-fb7f-471a-e8b8-064c868218d0"
      },
      "execution_count": null,
      "outputs": [
        {
          "output_type": "stream",
          "name": "stdout",
          "text": [
            "64\n",
            "56\n"
          ]
        }
      ]
    },
    {
      "cell_type": "code",
      "source": [
        "train_data['Energy'] = train_data['floor_area']*train_data['site_eui']"
      ],
      "metadata": {
        "id": "KYaxsRy2NU-o"
      },
      "execution_count": null,
      "outputs": []
    },
    {
      "cell_type": "code",
      "source": [
        "train_data['facility_type'].nunique()"
      ],
      "metadata": {
        "colab": {
          "base_uri": "https://localhost:8080/"
        },
        "id": "6NZciHohPuhv",
        "outputId": "53f41278-2cb2-499d-abd4-49635b9bc638"
      },
      "execution_count": null,
      "outputs": [
        {
          "output_type": "execute_result",
          "data": {
            "text/plain": [
              "60"
            ]
          },
          "metadata": {},
          "execution_count": 58
        }
      ]
    },
    {
      "cell_type": "markdown",
      "source": [
        "### Months to season and dropping 2"
      ],
      "metadata": {
        "id": "EL3PL70GUEup"
      }
    },
    {
      "cell_type": "code",
      "source": [
        "train_data['winter_average_temp'] = (train_data['january_avg_temp'] + train_data['february_avg_temp'] + train_data['december_avg_temp'])/3\n",
        "train_data['summer_average_temp'] = (train_data['june_avg_temp'] + train_data['july_avg_temp'] + train_data['august_avg_temp'])/3\n",
        "train_data['fall_average_temp'] = (train_data['september_avg_temp'] + train_data['october_avg_temp'] + train_data['november_avg_temp'])/3\n",
        "train_data['spring_average_temp'] = (train_data['march_avg_temp'] + train_data['april_avg_temp'] + train_data['may_avg_temp'])/3\n",
        "\n",
        "train_data['winter_average_maxtemp'] = (train_data['january_max_temp'] + train_data['february_max_temp'] + train_data['december_max_temp'])/3\n",
        "train_data['summer_average_maxtemp'] = (train_data['june_max_temp'] + train_data['july_max_temp'] + train_data['august_max_temp'])/3\n",
        "train_data['fall_average_maxtemp'] = (train_data['september_max_temp'] + train_data['october_max_temp'] + train_data['november_max_temp'])/3\n",
        "train_data['spring_average_maxtemp'] = (train_data['march_max_temp'] + train_data['april_max_temp'] + train_data['may_max_temp'])/3\n",
        "\n",
        "train_data['winter_average_mintemp'] = (train_data['january_min_temp'] + train_data['february_min_temp'] + train_data['december_min_temp'])/3\n",
        "train_data['summer_average_mintemp'] = (train_data['june_min_temp'] + train_data['july_min_temp'] + train_data['august_min_temp'])/3\n",
        "train_data['fall_average_mintemp'] = (train_data['september_min_temp'] + train_data['october_min_temp'] + train_data['november_min_temp'])/3\n",
        "train_data['spring_average_mintemp'] = (train_data['march_min_temp'] + train_data['april_min_temp'] + train_data['may_min_temp'])/3\n",
        "\n",
        "train_data.head()"
      ],
      "metadata": {
        "id": "ZJnAZ5S_mZ_T",
        "colab": {
          "base_uri": "https://localhost:8080/",
          "height": 270
        },
        "outputId": "53052a47-eaa3-40c1-cb97-89411932ff7a"
      },
      "execution_count": null,
      "outputs": [
        {
          "output_type": "execute_result",
          "data": {
            "text/html": [
              "\n",
              "  <div id=\"df-a9c8634d-d764-4cc2-a1fa-64d23710e88e\">\n",
              "    <div class=\"colab-df-container\">\n",
              "      <div>\n",
              "<style scoped>\n",
              "    .dataframe tbody tr th:only-of-type {\n",
              "        vertical-align: middle;\n",
              "    }\n",
              "\n",
              "    .dataframe tbody tr th {\n",
              "        vertical-align: top;\n",
              "    }\n",
              "\n",
              "    .dataframe thead th {\n",
              "        text-align: right;\n",
              "    }\n",
              "</style>\n",
              "<table border=\"1\" class=\"dataframe\">\n",
              "  <thead>\n",
              "    <tr style=\"text-align: right;\">\n",
              "      <th></th>\n",
              "      <th>Year_Factor</th>\n",
              "      <th>State_Factor</th>\n",
              "      <th>facility_type</th>\n",
              "      <th>floor_area</th>\n",
              "      <th>year_built</th>\n",
              "      <th>energy_star_rating</th>\n",
              "      <th>ELEVATION</th>\n",
              "      <th>january_min_temp</th>\n",
              "      <th>january_avg_temp</th>\n",
              "      <th>january_max_temp</th>\n",
              "      <th>february_min_temp</th>\n",
              "      <th>february_avg_temp</th>\n",
              "      <th>february_max_temp</th>\n",
              "      <th>march_min_temp</th>\n",
              "      <th>march_avg_temp</th>\n",
              "      <th>march_max_temp</th>\n",
              "      <th>april_min_temp</th>\n",
              "      <th>april_avg_temp</th>\n",
              "      <th>april_max_temp</th>\n",
              "      <th>may_min_temp</th>\n",
              "      <th>may_avg_temp</th>\n",
              "      <th>may_max_temp</th>\n",
              "      <th>june_min_temp</th>\n",
              "      <th>june_avg_temp</th>\n",
              "      <th>june_max_temp</th>\n",
              "      <th>july_min_temp</th>\n",
              "      <th>july_avg_temp</th>\n",
              "      <th>july_max_temp</th>\n",
              "      <th>august_min_temp</th>\n",
              "      <th>august_avg_temp</th>\n",
              "      <th>august_max_temp</th>\n",
              "      <th>september_min_temp</th>\n",
              "      <th>september_avg_temp</th>\n",
              "      <th>september_max_temp</th>\n",
              "      <th>october_min_temp</th>\n",
              "      <th>october_avg_temp</th>\n",
              "      <th>october_max_temp</th>\n",
              "      <th>november_min_temp</th>\n",
              "      <th>november_avg_temp</th>\n",
              "      <th>november_max_temp</th>\n",
              "      <th>december_min_temp</th>\n",
              "      <th>december_avg_temp</th>\n",
              "      <th>december_max_temp</th>\n",
              "      <th>cooling_degree_days</th>\n",
              "      <th>heating_degree_days</th>\n",
              "      <th>precipitation_inches</th>\n",
              "      <th>snowfall_inches</th>\n",
              "      <th>snowdepth_inches</th>\n",
              "      <th>days_below_30F</th>\n",
              "      <th>days_below_20F</th>\n",
              "      <th>days_below_10F</th>\n",
              "      <th>days_below_0F</th>\n",
              "      <th>days_above_80F</th>\n",
              "      <th>days_above_90F</th>\n",
              "      <th>days_with_fog</th>\n",
              "      <th>site_eui</th>\n",
              "      <th>Energy</th>\n",
              "      <th>winter_average_temp</th>\n",
              "      <th>summer_average_temp</th>\n",
              "      <th>fall_average_temp</th>\n",
              "      <th>spring_average_temp</th>\n",
              "      <th>winter_average_maxtemp</th>\n",
              "      <th>summer_average_maxtemp</th>\n",
              "      <th>fall_average_maxtemp</th>\n",
              "      <th>spring_average_maxtemp</th>\n",
              "      <th>winter_average_mintemp</th>\n",
              "      <th>summer_average_mintemp</th>\n",
              "      <th>fall_average_mintemp</th>\n",
              "      <th>spring_average_mintemp</th>\n",
              "    </tr>\n",
              "  </thead>\n",
              "  <tbody>\n",
              "    <tr>\n",
              "      <th>0</th>\n",
              "      <td>1</td>\n",
              "      <td>State_1</td>\n",
              "      <td>Grocery_store_or_food_market</td>\n",
              "      <td>61242.0</td>\n",
              "      <td>1942.0</td>\n",
              "      <td>11.0</td>\n",
              "      <td>2.4</td>\n",
              "      <td>36</td>\n",
              "      <td>50.5</td>\n",
              "      <td>68</td>\n",
              "      <td>35</td>\n",
              "      <td>50.589286</td>\n",
              "      <td>73</td>\n",
              "      <td>40</td>\n",
              "      <td>53.693548</td>\n",
              "      <td>80</td>\n",
              "      <td>41</td>\n",
              "      <td>55.5</td>\n",
              "      <td>78</td>\n",
              "      <td>46</td>\n",
              "      <td>56.854839</td>\n",
              "      <td>84</td>\n",
              "      <td>50</td>\n",
              "      <td>60.5</td>\n",
              "      <td>90</td>\n",
              "      <td>52</td>\n",
              "      <td>62.725806</td>\n",
              "      <td>84</td>\n",
              "      <td>52</td>\n",
              "      <td>62.16129</td>\n",
              "      <td>85</td>\n",
              "      <td>52</td>\n",
              "      <td>64.65</td>\n",
              "      <td>90</td>\n",
              "      <td>47</td>\n",
              "      <td>63.016129</td>\n",
              "      <td>83</td>\n",
              "      <td>43</td>\n",
              "      <td>53.8</td>\n",
              "      <td>72</td>\n",
              "      <td>36</td>\n",
              "      <td>49.274194</td>\n",
              "      <td>71</td>\n",
              "      <td>115</td>\n",
              "      <td>2960</td>\n",
              "      <td>16.59</td>\n",
              "      <td>0.0</td>\n",
              "      <td>0</td>\n",
              "      <td>0</td>\n",
              "      <td>0</td>\n",
              "      <td>0</td>\n",
              "      <td>0</td>\n",
              "      <td>14</td>\n",
              "      <td>0</td>\n",
              "      <td>NaN</td>\n",
              "      <td>248.682615</td>\n",
              "      <td>1.522982e+07</td>\n",
              "      <td>50.12116</td>\n",
              "      <td>61.795699</td>\n",
              "      <td>60.48871</td>\n",
              "      <td>55.349462</td>\n",
              "      <td>70.666667</td>\n",
              "      <td>86.333333</td>\n",
              "      <td>81.666667</td>\n",
              "      <td>80.666667</td>\n",
              "      <td>35.666667</td>\n",
              "      <td>51.333333</td>\n",
              "      <td>47.333333</td>\n",
              "      <td>42.333333</td>\n",
              "    </tr>\n",
              "    <tr>\n",
              "      <th>1</th>\n",
              "      <td>1</td>\n",
              "      <td>State_1</td>\n",
              "      <td>Warehouse_Distribution_or_Shipping_center</td>\n",
              "      <td>274000.0</td>\n",
              "      <td>1955.0</td>\n",
              "      <td>45.0</td>\n",
              "      <td>1.8</td>\n",
              "      <td>36</td>\n",
              "      <td>50.5</td>\n",
              "      <td>68</td>\n",
              "      <td>35</td>\n",
              "      <td>50.589286</td>\n",
              "      <td>73</td>\n",
              "      <td>40</td>\n",
              "      <td>53.693548</td>\n",
              "      <td>80</td>\n",
              "      <td>41</td>\n",
              "      <td>55.5</td>\n",
              "      <td>78</td>\n",
              "      <td>46</td>\n",
              "      <td>56.854839</td>\n",
              "      <td>84</td>\n",
              "      <td>50</td>\n",
              "      <td>60.5</td>\n",
              "      <td>90</td>\n",
              "      <td>52</td>\n",
              "      <td>62.725806</td>\n",
              "      <td>84</td>\n",
              "      <td>52</td>\n",
              "      <td>62.16129</td>\n",
              "      <td>85</td>\n",
              "      <td>52</td>\n",
              "      <td>64.65</td>\n",
              "      <td>90</td>\n",
              "      <td>47</td>\n",
              "      <td>63.016129</td>\n",
              "      <td>83</td>\n",
              "      <td>43</td>\n",
              "      <td>53.8</td>\n",
              "      <td>72</td>\n",
              "      <td>36</td>\n",
              "      <td>49.274194</td>\n",
              "      <td>71</td>\n",
              "      <td>115</td>\n",
              "      <td>2960</td>\n",
              "      <td>16.59</td>\n",
              "      <td>0.0</td>\n",
              "      <td>0</td>\n",
              "      <td>0</td>\n",
              "      <td>0</td>\n",
              "      <td>0</td>\n",
              "      <td>0</td>\n",
              "      <td>14</td>\n",
              "      <td>0</td>\n",
              "      <td>12.0</td>\n",
              "      <td>26.500150</td>\n",
              "      <td>7.261041e+06</td>\n",
              "      <td>50.12116</td>\n",
              "      <td>61.795699</td>\n",
              "      <td>60.48871</td>\n",
              "      <td>55.349462</td>\n",
              "      <td>70.666667</td>\n",
              "      <td>86.333333</td>\n",
              "      <td>81.666667</td>\n",
              "      <td>80.666667</td>\n",
              "      <td>35.666667</td>\n",
              "      <td>51.333333</td>\n",
              "      <td>47.333333</td>\n",
              "      <td>42.333333</td>\n",
              "    </tr>\n",
              "    <tr>\n",
              "      <th>2</th>\n",
              "      <td>1</td>\n",
              "      <td>State_1</td>\n",
              "      <td>Retail_Enclosed_mall</td>\n",
              "      <td>280025.0</td>\n",
              "      <td>1951.0</td>\n",
              "      <td>97.0</td>\n",
              "      <td>1.8</td>\n",
              "      <td>36</td>\n",
              "      <td>50.5</td>\n",
              "      <td>68</td>\n",
              "      <td>35</td>\n",
              "      <td>50.589286</td>\n",
              "      <td>73</td>\n",
              "      <td>40</td>\n",
              "      <td>53.693548</td>\n",
              "      <td>80</td>\n",
              "      <td>41</td>\n",
              "      <td>55.5</td>\n",
              "      <td>78</td>\n",
              "      <td>46</td>\n",
              "      <td>56.854839</td>\n",
              "      <td>84</td>\n",
              "      <td>50</td>\n",
              "      <td>60.5</td>\n",
              "      <td>90</td>\n",
              "      <td>52</td>\n",
              "      <td>62.725806</td>\n",
              "      <td>84</td>\n",
              "      <td>52</td>\n",
              "      <td>62.16129</td>\n",
              "      <td>85</td>\n",
              "      <td>52</td>\n",
              "      <td>64.65</td>\n",
              "      <td>90</td>\n",
              "      <td>47</td>\n",
              "      <td>63.016129</td>\n",
              "      <td>83</td>\n",
              "      <td>43</td>\n",
              "      <td>53.8</td>\n",
              "      <td>72</td>\n",
              "      <td>36</td>\n",
              "      <td>49.274194</td>\n",
              "      <td>71</td>\n",
              "      <td>115</td>\n",
              "      <td>2960</td>\n",
              "      <td>16.59</td>\n",
              "      <td>0.0</td>\n",
              "      <td>0</td>\n",
              "      <td>0</td>\n",
              "      <td>0</td>\n",
              "      <td>0</td>\n",
              "      <td>0</td>\n",
              "      <td>14</td>\n",
              "      <td>0</td>\n",
              "      <td>12.0</td>\n",
              "      <td>24.693619</td>\n",
              "      <td>6.914831e+06</td>\n",
              "      <td>50.12116</td>\n",
              "      <td>61.795699</td>\n",
              "      <td>60.48871</td>\n",
              "      <td>55.349462</td>\n",
              "      <td>70.666667</td>\n",
              "      <td>86.333333</td>\n",
              "      <td>81.666667</td>\n",
              "      <td>80.666667</td>\n",
              "      <td>35.666667</td>\n",
              "      <td>51.333333</td>\n",
              "      <td>47.333333</td>\n",
              "      <td>42.333333</td>\n",
              "    </tr>\n",
              "    <tr>\n",
              "      <th>3</th>\n",
              "      <td>1</td>\n",
              "      <td>State_1</td>\n",
              "      <td>Education_Other_classroom</td>\n",
              "      <td>55325.0</td>\n",
              "      <td>1980.0</td>\n",
              "      <td>46.0</td>\n",
              "      <td>1.8</td>\n",
              "      <td>36</td>\n",
              "      <td>50.5</td>\n",
              "      <td>68</td>\n",
              "      <td>35</td>\n",
              "      <td>50.589286</td>\n",
              "      <td>73</td>\n",
              "      <td>40</td>\n",
              "      <td>53.693548</td>\n",
              "      <td>80</td>\n",
              "      <td>41</td>\n",
              "      <td>55.5</td>\n",
              "      <td>78</td>\n",
              "      <td>46</td>\n",
              "      <td>56.854839</td>\n",
              "      <td>84</td>\n",
              "      <td>50</td>\n",
              "      <td>60.5</td>\n",
              "      <td>90</td>\n",
              "      <td>52</td>\n",
              "      <td>62.725806</td>\n",
              "      <td>84</td>\n",
              "      <td>52</td>\n",
              "      <td>62.16129</td>\n",
              "      <td>85</td>\n",
              "      <td>52</td>\n",
              "      <td>64.65</td>\n",
              "      <td>90</td>\n",
              "      <td>47</td>\n",
              "      <td>63.016129</td>\n",
              "      <td>83</td>\n",
              "      <td>43</td>\n",
              "      <td>53.8</td>\n",
              "      <td>72</td>\n",
              "      <td>36</td>\n",
              "      <td>49.274194</td>\n",
              "      <td>71</td>\n",
              "      <td>115</td>\n",
              "      <td>2960</td>\n",
              "      <td>16.59</td>\n",
              "      <td>0.0</td>\n",
              "      <td>0</td>\n",
              "      <td>0</td>\n",
              "      <td>0</td>\n",
              "      <td>0</td>\n",
              "      <td>0</td>\n",
              "      <td>14</td>\n",
              "      <td>0</td>\n",
              "      <td>12.0</td>\n",
              "      <td>48.406926</td>\n",
              "      <td>2.678113e+06</td>\n",
              "      <td>50.12116</td>\n",
              "      <td>61.795699</td>\n",
              "      <td>60.48871</td>\n",
              "      <td>55.349462</td>\n",
              "      <td>70.666667</td>\n",
              "      <td>86.333333</td>\n",
              "      <td>81.666667</td>\n",
              "      <td>80.666667</td>\n",
              "      <td>35.666667</td>\n",
              "      <td>51.333333</td>\n",
              "      <td>47.333333</td>\n",
              "      <td>42.333333</td>\n",
              "    </tr>\n",
              "    <tr>\n",
              "      <th>4</th>\n",
              "      <td>1</td>\n",
              "      <td>State_1</td>\n",
              "      <td>Warehouse_Nonrefrigerated</td>\n",
              "      <td>66000.0</td>\n",
              "      <td>1985.0</td>\n",
              "      <td>100.0</td>\n",
              "      <td>2.4</td>\n",
              "      <td>36</td>\n",
              "      <td>50.5</td>\n",
              "      <td>68</td>\n",
              "      <td>35</td>\n",
              "      <td>50.589286</td>\n",
              "      <td>73</td>\n",
              "      <td>40</td>\n",
              "      <td>53.693548</td>\n",
              "      <td>80</td>\n",
              "      <td>41</td>\n",
              "      <td>55.5</td>\n",
              "      <td>78</td>\n",
              "      <td>46</td>\n",
              "      <td>56.854839</td>\n",
              "      <td>84</td>\n",
              "      <td>50</td>\n",
              "      <td>60.5</td>\n",
              "      <td>90</td>\n",
              "      <td>52</td>\n",
              "      <td>62.725806</td>\n",
              "      <td>84</td>\n",
              "      <td>52</td>\n",
              "      <td>62.16129</td>\n",
              "      <td>85</td>\n",
              "      <td>52</td>\n",
              "      <td>64.65</td>\n",
              "      <td>90</td>\n",
              "      <td>47</td>\n",
              "      <td>63.016129</td>\n",
              "      <td>83</td>\n",
              "      <td>43</td>\n",
              "      <td>53.8</td>\n",
              "      <td>72</td>\n",
              "      <td>36</td>\n",
              "      <td>49.274194</td>\n",
              "      <td>71</td>\n",
              "      <td>115</td>\n",
              "      <td>2960</td>\n",
              "      <td>16.59</td>\n",
              "      <td>0.0</td>\n",
              "      <td>0</td>\n",
              "      <td>0</td>\n",
              "      <td>0</td>\n",
              "      <td>0</td>\n",
              "      <td>0</td>\n",
              "      <td>14</td>\n",
              "      <td>0</td>\n",
              "      <td>NaN</td>\n",
              "      <td>3.899395</td>\n",
              "      <td>2.573601e+05</td>\n",
              "      <td>50.12116</td>\n",
              "      <td>61.795699</td>\n",
              "      <td>60.48871</td>\n",
              "      <td>55.349462</td>\n",
              "      <td>70.666667</td>\n",
              "      <td>86.333333</td>\n",
              "      <td>81.666667</td>\n",
              "      <td>80.666667</td>\n",
              "      <td>35.666667</td>\n",
              "      <td>51.333333</td>\n",
              "      <td>47.333333</td>\n",
              "      <td>42.333333</td>\n",
              "    </tr>\n",
              "  </tbody>\n",
              "</table>\n",
              "</div>\n",
              "      <button class=\"colab-df-convert\" onclick=\"convertToInteractive('df-a9c8634d-d764-4cc2-a1fa-64d23710e88e')\"\n",
              "              title=\"Convert this dataframe to an interactive table.\"\n",
              "              style=\"display:none;\">\n",
              "        \n",
              "  <svg xmlns=\"http://www.w3.org/2000/svg\" height=\"24px\"viewBox=\"0 0 24 24\"\n",
              "       width=\"24px\">\n",
              "    <path d=\"M0 0h24v24H0V0z\" fill=\"none\"/>\n",
              "    <path d=\"M18.56 5.44l.94 2.06.94-2.06 2.06-.94-2.06-.94-.94-2.06-.94 2.06-2.06.94zm-11 1L8.5 8.5l.94-2.06 2.06-.94-2.06-.94L8.5 2.5l-.94 2.06-2.06.94zm10 10l.94 2.06.94-2.06 2.06-.94-2.06-.94-.94-2.06-.94 2.06-2.06.94z\"/><path d=\"M17.41 7.96l-1.37-1.37c-.4-.4-.92-.59-1.43-.59-.52 0-1.04.2-1.43.59L10.3 9.45l-7.72 7.72c-.78.78-.78 2.05 0 2.83L4 21.41c.39.39.9.59 1.41.59.51 0 1.02-.2 1.41-.59l7.78-7.78 2.81-2.81c.8-.78.8-2.07 0-2.86zM5.41 20L4 18.59l7.72-7.72 1.47 1.35L5.41 20z\"/>\n",
              "  </svg>\n",
              "      </button>\n",
              "      \n",
              "  <style>\n",
              "    .colab-df-container {\n",
              "      display:flex;\n",
              "      flex-wrap:wrap;\n",
              "      gap: 12px;\n",
              "    }\n",
              "\n",
              "    .colab-df-convert {\n",
              "      background-color: #E8F0FE;\n",
              "      border: none;\n",
              "      border-radius: 50%;\n",
              "      cursor: pointer;\n",
              "      display: none;\n",
              "      fill: #1967D2;\n",
              "      height: 32px;\n",
              "      padding: 0 0 0 0;\n",
              "      width: 32px;\n",
              "    }\n",
              "\n",
              "    .colab-df-convert:hover {\n",
              "      background-color: #E2EBFA;\n",
              "      box-shadow: 0px 1px 2px rgba(60, 64, 67, 0.3), 0px 1px 3px 1px rgba(60, 64, 67, 0.15);\n",
              "      fill: #174EA6;\n",
              "    }\n",
              "\n",
              "    [theme=dark] .colab-df-convert {\n",
              "      background-color: #3B4455;\n",
              "      fill: #D2E3FC;\n",
              "    }\n",
              "\n",
              "    [theme=dark] .colab-df-convert:hover {\n",
              "      background-color: #434B5C;\n",
              "      box-shadow: 0px 1px 3px 1px rgba(0, 0, 0, 0.15);\n",
              "      filter: drop-shadow(0px 1px 2px rgba(0, 0, 0, 0.3));\n",
              "      fill: #FFFFFF;\n",
              "    }\n",
              "  </style>\n",
              "\n",
              "      <script>\n",
              "        const buttonEl =\n",
              "          document.querySelector('#df-a9c8634d-d764-4cc2-a1fa-64d23710e88e button.colab-df-convert');\n",
              "        buttonEl.style.display =\n",
              "          google.colab.kernel.accessAllowed ? 'block' : 'none';\n",
              "\n",
              "        async function convertToInteractive(key) {\n",
              "          const element = document.querySelector('#df-a9c8634d-d764-4cc2-a1fa-64d23710e88e');\n",
              "          const dataTable =\n",
              "            await google.colab.kernel.invokeFunction('convertToInteractive',\n",
              "                                                     [key], {});\n",
              "          if (!dataTable) return;\n",
              "\n",
              "          const docLinkHtml = 'Like what you see? Visit the ' +\n",
              "            '<a target=\"_blank\" href=https://colab.research.google.com/notebooks/data_table.ipynb>data table notebook</a>'\n",
              "            + ' to learn more about interactive tables.';\n",
              "          element.innerHTML = '';\n",
              "          dataTable['output_type'] = 'display_data';\n",
              "          await google.colab.output.renderOutput(dataTable, element);\n",
              "          const docLink = document.createElement('div');\n",
              "          docLink.innerHTML = docLinkHtml;\n",
              "          element.appendChild(docLink);\n",
              "        }\n",
              "      </script>\n",
              "    </div>\n",
              "  </div>\n",
              "  "
            ],
            "text/plain": [
              "   Year_Factor State_Factor  ... fall_average_mintemp  spring_average_mintemp\n",
              "0            1      State_1  ...            47.333333               42.333333\n",
              "1            1      State_1  ...            47.333333               42.333333\n",
              "2            1      State_1  ...            47.333333               42.333333\n",
              "3            1      State_1  ...            47.333333               42.333333\n",
              "4            1      State_1  ...            47.333333               42.333333\n",
              "\n",
              "[5 rows x 69 columns]"
            ]
          },
          "metadata": {},
          "execution_count": 59
        }
      ]
    },
    {
      "cell_type": "code",
      "source": [
        "print(len(train_data.columns))"
      ],
      "metadata": {
        "colab": {
          "base_uri": "https://localhost:8080/"
        },
        "id": "ihrgVTbCRhAm",
        "outputId": "6def8270-ef46-43d1-fa8d-572a1bf7e359"
      },
      "execution_count": null,
      "outputs": [
        {
          "output_type": "stream",
          "name": "stdout",
          "text": [
            "69\n"
          ]
        }
      ]
    },
    {
      "cell_type": "code",
      "source": [
        "Dropped_temp = ['january_min_temp', 'january_avg_temp', 'january_max_temp',\n",
        "       'february_min_temp', 'february_avg_temp', 'february_max_temp',\n",
        "       'march_min_temp', 'march_avg_temp', 'march_max_temp', 'april_min_temp',\n",
        "       'april_avg_temp', 'april_max_temp', 'may_min_temp', 'may_avg_temp',\n",
        "       'may_max_temp', 'june_min_temp', 'june_avg_temp', 'june_max_temp',\n",
        "       'july_min_temp', 'july_avg_temp', 'july_max_temp', 'august_min_temp',\n",
        "       'august_avg_temp', 'august_max_temp', 'september_min_temp',\n",
        "       'september_avg_temp', 'september_max_temp', 'october_min_temp',\n",
        "       'october_avg_temp', 'october_max_temp', 'november_min_temp',\n",
        "       'november_avg_temp', 'november_max_temp', 'december_min_temp',\n",
        "       'december_avg_temp', 'december_max_temp']\n",
        "\n",
        "train_data = train_data.drop(Dropped_temp,axis =1)"
      ],
      "metadata": {
        "id": "MSSgLiZjRj_-"
      },
      "execution_count": null,
      "outputs": []
    },
    {
      "cell_type": "markdown",
      "source": [
        "### Facility type"
      ],
      "metadata": {
        "id": "Dn6joqlQUKGh"
      }
    },
    {
      "cell_type": "code",
      "source": [
        "facility_type = df['facility_type']"
      ],
      "metadata": {
        "id": "shBV-k6aTOSn"
      },
      "execution_count": null,
      "outputs": []
    },
    {
      "cell_type": "code",
      "source": [
        "train_data[\"facility_type\"]=train_data[\"facility_type\"].replace(['Warehouse_Refrigerated','Warehouse_Uncategorized'],\"Warehouse_Low\")\n",
        "train_data[\"facility_type\"]=train_data[\"facility_type\"].replace(['Warehouse_Selfstorage','Warehouse_Distribution_or_Shipping_center'],\"Warehouse_Med\")\n",
        "train_data[\"facility_type\"]=train_data[\"facility_type\"].replace(['Warehouse_Nonrefrigerated','Data_Center'],\"Warehouse_High\")\n",
        "\n",
        "train_data[\"facility_type\"]=train_data[\"facility_type\"].replace(['Mixed_Use_Predominantly_Commercial','Retail_Vehicle_dealership_showroom'],\"Commercial_Low\")\n",
        "train_data[\"facility_type\"]=train_data[\"facility_type\"].replace(['Commercial_Other','Commercial_Unknown','Mixed_Use_Commercial_and_Residential','Retail_Enclosed_mall','Retail_Strip_shopping_mall','Retail_Uncategorized'],\"Commercial_High\")\n",
        "\n",
        "train_data[\"facility_type\"]=train_data[\"facility_type\"].replace(['Lodging_Uncategorized'],\"Lodging_Low\")\n",
        "train_data[\"facility_type\"]=train_data[\"facility_type\"].replace(['Lodging_Other'],\"Lodging_Med\")\n",
        "train_data[\"facility_type\"]=train_data[\"facility_type\"].replace(['Lodging_Dormitory_or_fraternity_sorority','Lodging_Hotel'],\"Lodging_High\")\n",
        "\n",
        "train_data[\"facility_type\"]=train_data[\"facility_type\"].replace(['Education_Preschool_or_daycare'],\"Educational_Low\")\n",
        "train_data[\"facility_type\"]=train_data[\"facility_type\"].replace(['Education_College_or_university','Education_Other_classroom','Education_Uncategorized'],\"Educational_High\")\n",
        "\n",
        "train_data[\"facility_type\"]=train_data[\"facility_type\"].replace(['Food_Service_Other'],\"Food_Low\")\n",
        "train_data[\"facility_type\"]=train_data[\"facility_type\"].replace(['Food_Service_Restaurant_or_cafeteria','Food_Service_Uncategorized','Grocery_store_or_food_market'],\"Food_Med\")\n",
        "train_data[\"facility_type\"]=train_data[\"facility_type\"].replace(['Food_Sales'],\"Food_High\")\n",
        "\n",
        "train_data[\"facility_type\"]=train_data[\"facility_type\"].replace(['Public_Assembly_Library','Public_Assembly_Movie_Theater','Public_Assembly_Stadium' , 'Public_Safety_Fire_or_police_station','Public_Safety_Penitentiary','Public_Safety_Uncategorized','Religious_worship'],\"Public_Services_Low\")\n",
        "train_data[\"facility_type\"]=train_data[\"facility_type\"].replace(['Parking_Garage','Public_Assembly_Entertainment_culture','Public_Assembly_Other' , 'Public_Assembly_Social_meeting','Public_Assembly_Uncategorized','Public_Safety_Courthouse'],\"Public_Services_High\")\n",
        "\n",
        "train_data[\"facility_type\"]=train_data[\"facility_type\"].replace(['Service_Drycleaning_or_Laundry'],\"Services_Low\")\n",
        "train_data[\"facility_type\"]=train_data[\"facility_type\"].replace(['Service_Uncategorized','Service_Vehicle_service_repair_shop'],\"Services_High\")\n",
        "\n",
        "train_data[\"facility_type\"]=train_data[\"facility_type\"].replace(['Health_Care_Outpatient_Clinic','Health_Care_Outpatient_Uncategorized','Nursing_Home','Office_Medical_non_diagnostic'],\"Healthcare_Low\")\n",
        "train_data[\"facility_type\"]=train_data[\"facility_type\"].replace(['Health_Care_Uncategorized','Health_Care_Inpatient','Laboratory'],\"Healthcare_High\")\n",
        "\n",
        "train_data[\"facility_type\"]=train_data[\"facility_type\"].replace(['Office_Mixed_use'],\"Office_Low\")\n",
        "train_data[\"facility_type\"]=train_data[\"facility_type\"].replace(['Office_Bank_or_other_financial','Office_Uncategorized'],\"Office_High\")\n",
        "\n",
        "train_data[\"facility_type\"]=train_data[\"facility_type\"].replace(['Mixed_Use_Predominantly_Residential'],\"Residential_Low\")\n",
        "train_data[\"facility_type\"]=train_data[\"facility_type\"].replace(['2to4_Unit_Building','5plus_Unit_Building'],\"Residential_Med\")\n",
        "train_data[\"facility_type\"]=train_data[\"facility_type\"].replace(['Multifamily_Uncategorized'],\"Residential_High\")"
      ],
      "metadata": {
        "id": "GxGKlCFmR4ya"
      },
      "execution_count": null,
      "outputs": []
    },
    {
      "cell_type": "code",
      "source": [
        "train_data['facility_type'] = train_data[\"facility_type\"].dropna()"
      ],
      "metadata": {
        "id": "e9rByFOiSIDO"
      },
      "execution_count": null,
      "outputs": []
    },
    {
      "cell_type": "code",
      "source": [
        "train_data['facility_type_group'] = train_data['facility_type']"
      ],
      "metadata": {
        "id": "eq07pNHq7wt1"
      },
      "execution_count": null,
      "outputs": []
    },
    {
      "cell_type": "markdown",
      "source": [
        "### Encoding for facility_type"
      ],
      "metadata": {
        "id": "u_MDpOJSUReA"
      }
    },
    {
      "cell_type": "code",
      "source": [
        "from sklearn import preprocessing\n",
        "le = preprocessing.LabelEncoder()\n",
        "train_data['facility_type'] = le.fit_transform(train_data['facility_type'])"
      ],
      "metadata": {
        "id": "qQOwZ0HrSdk2"
      },
      "execution_count": null,
      "outputs": []
    },
    {
      "cell_type": "markdown",
      "source": [
        "Imputations of year_built"
      ],
      "metadata": {
        "id": "ovekr0iZal0Z"
      }
    },
    {
      "cell_type": "code",
      "source": [
        "# Before doing any scaling, imputation, or clustering that's using distance-based algorithms, we first have to split the data\n",
        "from sklearn.model_selection import train_test_split\n",
        "training_cols = [col for col in train_data.columns if col != 'site_eui']\n",
        "X = train_data[training_cols]\n",
        "y = train_data['site_eui']\n",
        "\n",
        "X_train, X_test, y_train, y_test = train_test_split(X, y, test_size = 0.3, random_state=42)"
      ],
      "metadata": {
        "id": "IBYL8Hl-7rCL"
      },
      "execution_count": null,
      "outputs": []
    },
    {
      "cell_type": "code",
      "source": [
        "def ordinal_encode_for_knn_imputer(data):\n",
        "  \"\"\"\n",
        "  Writer: Dongyeun K.\n",
        "  Description: This is for preprocessing job before passing the data to KNNImputer\n",
        "  \"\"\"\n",
        "  from sklearn.preprocessing import OrdinalEncoder\n",
        "\n",
        "  # Encode facility_type_group\n",
        "  facility_type_group_ord_encoder = OrdinalEncoder()\n",
        "  facility_type_group_reshaped = data['facility_type_group'].values.reshape(-1, 1)\n",
        "  facility_type_group_encoded = facility_type_group_ord_encoder.fit_transform(facility_type_group_reshaped)\n",
        "\n",
        "  # Encode State_Factor\n",
        "  state_factor_ord_encoder = OrdinalEncoder()\n",
        "  state_factor_reshaped = data['State_Factor'].values.reshape(-1, 1)\n",
        "  state_factor_encoded = state_factor_ord_encoder.fit_transform(state_factor_reshaped)\n",
        "\n",
        "  # Add encoded columns\n",
        "  data['facility_type_group_enc'] = np.squeeze(facility_type_group_encoded)\n",
        "  data['state_factor_enc'] = np.squeeze(state_factor_encoded)\n",
        "\n",
        "  # Drop original columns\n",
        "  data.drop(['State_Factor', 'facility_type_group'], axis=1, inplace=True)\n",
        "\n",
        "  return data\n",
        "\n",
        "\n",
        "def find_optimal_n(data, start_range, end_range, step=2, target='site_eui'):\n",
        "  \"\"\"\n",
        "  Wrtier: Dongyeun Kum\n",
        "  Description: Interatively calculates RMSE for a given rage of number_of_neighbors parameter;Denoted as 'n'\n",
        "  \"\"\"\n",
        "  from sklearn.model_selection import train_test_split\n",
        "  from sklearn.preprocessing import RobustScaler\n",
        "  from sklearn.ensemble import GradientBoostingRegressor\n",
        "  from sklearn.impute import KNNImputer\n",
        "  from sklearn.metrics import mean_squared_error\n",
        "  X = data.drop(target, axis=1)\n",
        "  y = data[target]\n",
        "\n",
        "  X_train, X_test, y_train, y_test = train_test_split(X, y, test_size = 0.3, random_state=42)\n",
        "\n",
        "  # Scale data X before feeding the KNNImputer\n",
        "  transformer = RobustScaler()\n",
        "  X_train_scaled_arr = transformer.fit_transform(X_train)\n",
        "  X_test_scaled_arr = transformer.transform(X_test)\n",
        "\n",
        "  X_train_scaled = pd.DataFrame(X_train_scaled_arr, columns=X_train.columns)\n",
        "  X_test_scaled = pd.DataFrame(X_test_scaled_arr, columns=X_test.columns)\n",
        "\n",
        "  errors = []\n",
        "\n",
        "  for n in range(start_range, end_range, step):\n",
        "    imputer = KNNImputer(n_neighbors= n)\n",
        "    X_train_imputed_arr = imputer.fit_transform(X_train_scaled)\n",
        "    X_test_imputed_arr = imputer.transform(X_test_scaled)\n",
        "\n",
        "    X_train_imputed = pd.DataFrame(X_train_imputed_arr, columns = X_train_scaled.columns)\n",
        "    X_test_imputed = pd.DataFrame(X_test_imputed_arr, columns = X_test_scaled.columns)\n",
        "\n",
        "    model = GradientBoostingRegressor(random_state=42)\n",
        "    model.fit(X_train_imputed, y_train)\n",
        "    y_pred = model.predict(X_test_imputed)\n",
        "    error = (mean_squared_error(y_test, y_pred))**0.5\n",
        "\n",
        "    errors.append({'num_of_neighbors': n, 'RMSE': error})\n",
        "\n",
        "  df_errors = pd.DataFrame(errors)\n",
        "\n",
        "  return df_errors\n",
        "\n",
        "\n",
        "def visualize_knn_optimization(df_errors):\n",
        "  \"\"\"\n",
        "  Writer: Dongyeun Kum\n",
        "  Description: Visualizes how RMSE varies as n of KNN changes\n",
        "  \"\"\"\n",
        "  import seaborn as sns\n",
        "\n",
        "  sns.lineplot(df_errors.num_of_neighbors, df_errors.RMSE)\n",
        "  plt.show()"
      ],
      "metadata": {
        "id": "JgL2eYl_7rJ0"
      },
      "execution_count": null,
      "outputs": []
    },
    {
      "cell_type": "code",
      "source": [
        "# Get optimal number of neighbors for KNNImputer\n",
        "data_temp = train_data[['Year_Factor', 'State_Factor', 'facility_type_group', 'floor_area', 'year_built', 'site_eui']]\n",
        "data_temp_ordinal = ordinal_encode_for_knn_imputer(data_temp)\n",
        "df_errors = find_optimal_n(data_temp_ordinal, 1, 10, step=1)\n",
        "visualize_knn_optimization(df_errors)"
      ],
      "metadata": {
        "id": "MqW_5A-J7-t2",
        "colab": {
          "base_uri": "https://localhost:8080/",
          "height": 612
        },
        "outputId": "c5b18e3c-f17c-445b-cb38-dbf218407fa1"
      },
      "execution_count": null,
      "outputs": [
        {
          "output_type": "stream",
          "name": "stderr",
          "text": [
            "/usr/local/lib/python3.7/dist-packages/ipykernel_launcher.py:19: SettingWithCopyWarning: \n",
            "A value is trying to be set on a copy of a slice from a DataFrame.\n",
            "Try using .loc[row_indexer,col_indexer] = value instead\n",
            "\n",
            "See the caveats in the documentation: https://pandas.pydata.org/pandas-docs/stable/user_guide/indexing.html#returning-a-view-versus-a-copy\n",
            "/usr/local/lib/python3.7/dist-packages/ipykernel_launcher.py:20: SettingWithCopyWarning: \n",
            "A value is trying to be set on a copy of a slice from a DataFrame.\n",
            "Try using .loc[row_indexer,col_indexer] = value instead\n",
            "\n",
            "See the caveats in the documentation: https://pandas.pydata.org/pandas-docs/stable/user_guide/indexing.html#returning-a-view-versus-a-copy\n",
            "/usr/local/lib/python3.7/dist-packages/pandas/core/frame.py:4913: SettingWithCopyWarning: \n",
            "A value is trying to be set on a copy of a slice from a DataFrame\n",
            "\n",
            "See the caveats in the documentation: https://pandas.pydata.org/pandas-docs/stable/user_guide/indexing.html#returning-a-view-versus-a-copy\n",
            "  errors=errors,\n",
            "/usr/local/lib/python3.7/dist-packages/seaborn/_decorators.py:43: FutureWarning: Pass the following variables as keyword args: x, y. From version 0.12, the only valid positional argument will be `data`, and passing other arguments without an explicit keyword will result in an error or misinterpretation.\n",
            "  FutureWarning\n"
          ]
        },
        {
          "output_type": "display_data",
          "data": {
            "image/png": "[encoded data removed]",
            "text/plain": [
              "<Figure size 432x288 with 1 Axes>"
            ]
          },
          "metadata": {
            "needs_background": "light"
          }
        }
      ]
    },
    {
      "cell_type": "code",
      "source": [
        "# KNN Imputation with the optimal n - This process is to be functionized soon\n",
        "import copy\n",
        "from sklearn.preprocessing import RobustScaler, OrdinalEncoder, StandardScaler\n",
        "from sklearn.impute import KNNImputer\n",
        "\n",
        "X_train_copy = copy.deepcopy(X_train)\n",
        "X_test_copy = copy.deepcopy(X_test)\n",
        "\n",
        "ord_encoder = OrdinalEncoder()\n",
        "transformer = RobustScaler()\n",
        "KNN_imputer = KNNImputer(n_neighbors=4) # the optimal n=4\n",
        "\n",
        "knn_cols = ['Year_Factor', 'state_factor_enc', 'facility_type_group_enc', 'floor_area', 'year_built']\n",
        "\n",
        "X_train_copy_enc = ordinal_encode_for_knn_imputer(X_train_copy) # ordinal encoding\n",
        "X_test_copy_enc = ordinal_encode_for_knn_imputer(X_test_copy)\n",
        "\n",
        "X_train_copy_scaled_arr = transformer.fit_transform(X_train_copy_enc[knn_cols]) # scaling\n",
        "X_test_copy_scaled_arr = transformer.transform(X_test_copy_enc[knn_cols]) # scaling\n",
        "\n",
        "X_train_copy_scaled = pd.DataFrame(X_train_copy_scaled_arr, columns=knn_cols, index=X_train_copy_enc.index)\n",
        "X_test_copy_scaled = pd.DataFrame(X_test_copy_scaled_arr, columns=knn_cols, index=X_test_copy_enc.index)\n",
        "\n",
        "X_train_copy_knn_imputed_arr = KNN_imputer.fit_transform(X_train_copy_scaled[['Year_Factor', 'state_factor_enc', 'facility_type_group_enc', 'floor_area', 'year_built']])\n",
        "X_test_copy_knn_imputed_arr = KNN_imputer.transform(X_test_copy_scaled[['Year_Factor', 'state_factor_enc', 'facility_type_group_enc', 'floor_area', 'year_built']])\n",
        "\n",
        "X_train_copy_knn_imputed = transformer.inverse_transform(X_train_copy_knn_imputed_arr)\n",
        "X_test_copy_knn_imputed = transformer.inverse_transform(X_test_copy_knn_imputed_arr)\n",
        "\n",
        "X_train_copy_knn_imputed = pd.DataFrame(X_train_copy_knn_imputed, columns= knn_cols, index = X_train_copy_enc.index)\n",
        "X_test_copy_knn_imputed = pd.DataFrame(X_test_copy_knn_imputed, columns= knn_cols, index = X_test_copy_enc.index)\n",
        "\n",
        "X_train_copy_knn_imputed # Check the results"
      ],
      "metadata": {
        "id": "OwoUFkhD8Cv0",
        "colab": {
          "base_uri": "https://localhost:8080/",
          "height": 424
        },
        "outputId": "123723e1-c5ec-4a5e-b8f9-ad460e02c3fd"
      },
      "execution_count": null,
      "outputs": [
        {
          "output_type": "execute_result",
          "data": {
            "text/html": [
              "\n",
              "  <div id=\"df-227556df-a63d-47ea-b10b-49afb9435c26\">\n",
              "    <div class=\"colab-df-container\">\n",
              "      <div>\n",
              "<style scoped>\n",
              "    .dataframe tbody tr th:only-of-type {\n",
              "        vertical-align: middle;\n",
              "    }\n",
              "\n",
              "    .dataframe tbody tr th {\n",
              "        vertical-align: top;\n",
              "    }\n",
              "\n",
              "    .dataframe thead th {\n",
              "        text-align: right;\n",
              "    }\n",
              "</style>\n",
              "<table border=\"1\" class=\"dataframe\">\n",
              "  <thead>\n",
              "    <tr style=\"text-align: right;\">\n",
              "      <th></th>\n",
              "      <th>Year_Factor</th>\n",
              "      <th>state_factor_enc</th>\n",
              "      <th>facility_type_group_enc</th>\n",
              "      <th>floor_area</th>\n",
              "      <th>year_built</th>\n",
              "    </tr>\n",
              "  </thead>\n",
              "  <tbody>\n",
              "    <tr>\n",
              "      <th>13184</th>\n",
              "      <td>6.0</td>\n",
              "      <td>4.0</td>\n",
              "      <td>2.0</td>\n",
              "      <td>86700.0</td>\n",
              "      <td>1959.0</td>\n",
              "    </tr>\n",
              "    <tr>\n",
              "      <th>18163</th>\n",
              "      <td>2.0</td>\n",
              "      <td>5.0</td>\n",
              "      <td>13.0</td>\n",
              "      <td>574857.0</td>\n",
              "      <td>1990.0</td>\n",
              "    </tr>\n",
              "    <tr>\n",
              "      <th>74041</th>\n",
              "      <td>6.0</td>\n",
              "      <td>2.0</td>\n",
              "      <td>21.0</td>\n",
              "      <td>70200.0</td>\n",
              "      <td>1979.0</td>\n",
              "    </tr>\n",
              "    <tr>\n",
              "      <th>16247</th>\n",
              "      <td>1.0</td>\n",
              "      <td>5.0</td>\n",
              "      <td>13.0</td>\n",
              "      <td>2837932.0</td>\n",
              "      <td>1970.0</td>\n",
              "    </tr>\n",
              "    <tr>\n",
              "      <th>50301</th>\n",
              "      <td>5.0</td>\n",
              "      <td>5.0</td>\n",
              "      <td>19.0</td>\n",
              "      <td>57960.0</td>\n",
              "      <td>1928.0</td>\n",
              "    </tr>\n",
              "    <tr>\n",
              "      <th>...</th>\n",
              "      <td>...</td>\n",
              "      <td>...</td>\n",
              "      <td>...</td>\n",
              "      <td>...</td>\n",
              "      <td>...</td>\n",
              "    </tr>\n",
              "    <tr>\n",
              "      <th>37194</th>\n",
              "      <td>4.0</td>\n",
              "      <td>5.0</td>\n",
              "      <td>19.0</td>\n",
              "      <td>189595.0</td>\n",
              "      <td>1956.0</td>\n",
              "    </tr>\n",
              "    <tr>\n",
              "      <th>6265</th>\n",
              "      <td>4.0</td>\n",
              "      <td>3.0</td>\n",
              "      <td>19.0</td>\n",
              "      <td>115323.0</td>\n",
              "      <td>1959.0</td>\n",
              "    </tr>\n",
              "    <tr>\n",
              "      <th>54886</th>\n",
              "      <td>6.0</td>\n",
              "      <td>5.0</td>\n",
              "      <td>2.0</td>\n",
              "      <td>104400.0</td>\n",
              "      <td>1971.0</td>\n",
              "    </tr>\n",
              "    <tr>\n",
              "      <th>860</th>\n",
              "      <td>2.0</td>\n",
              "      <td>0.0</td>\n",
              "      <td>13.0</td>\n",
              "      <td>249960.0</td>\n",
              "      <td>2000.0</td>\n",
              "    </tr>\n",
              "    <tr>\n",
              "      <th>15795</th>\n",
              "      <td>1.0</td>\n",
              "      <td>5.0</td>\n",
              "      <td>13.0</td>\n",
              "      <td>69046.0</td>\n",
              "      <td>1924.0</td>\n",
              "    </tr>\n",
              "  </tbody>\n",
              "</table>\n",
              "<p>53029 rows × 5 columns</p>\n",
              "</div>\n",
              "      <button class=\"colab-df-convert\" onclick=\"convertToInteractive('df-227556df-a63d-47ea-b10b-49afb9435c26')\"\n",
              "              title=\"Convert this dataframe to an interactive table.\"\n",
              "              style=\"display:none;\">\n",
              "        \n",
              "  <svg xmlns=\"http://www.w3.org/2000/svg\" height=\"24px\"viewBox=\"0 0 24 24\"\n",
              "       width=\"24px\">\n",
              "    <path d=\"M0 0h24v24H0V0z\" fill=\"none\"/>\n",
              "    <path d=\"M18.56 5.44l.94 2.06.94-2.06 2.06-.94-2.06-.94-.94-2.06-.94 2.06-2.06.94zm-11 1L8.5 8.5l.94-2.06 2.06-.94-2.06-.94L8.5 2.5l-.94 2.06-2.06.94zm10 10l.94 2.06.94-2.06 2.06-.94-2.06-.94-.94-2.06-.94 2.06-2.06.94z\"/><path d=\"M17.41 7.96l-1.37-1.37c-.4-.4-.92-.59-1.43-.59-.52 0-1.04.2-1.43.59L10.3 9.45l-7.72 7.72c-.78.78-.78 2.05 0 2.83L4 21.41c.39.39.9.59 1.41.59.51 0 1.02-.2 1.41-.59l7.78-7.78 2.81-2.81c.8-.78.8-2.07 0-2.86zM5.41 20L4 18.59l7.72-7.72 1.47 1.35L5.41 20z\"/>\n",
              "  </svg>\n",
              "      </button>\n",
              "      \n",
              "  <style>\n",
              "    .colab-df-container {\n",
              "      display:flex;\n",
              "      flex-wrap:wrap;\n",
              "      gap: 12px;\n",
              "    }\n",
              "\n",
              "    .colab-df-convert {\n",
              "      background-color: #E8F0FE;\n",
              "      border: none;\n",
              "      border-radius: 50%;\n",
              "      cursor: pointer;\n",
              "      display: none;\n",
              "      fill: #1967D2;\n",
              "      height: 32px;\n",
              "      padding: 0 0 0 0;\n",
              "      width: 32px;\n",
              "    }\n",
              "\n",
              "    .colab-df-convert:hover {\n",
              "      background-color: #E2EBFA;\n",
              "      box-shadow: 0px 1px 2px rgba(60, 64, 67, 0.3), 0px 1px 3px 1px rgba(60, 64, 67, 0.15);\n",
              "      fill: #174EA6;\n",
              "    }\n",
              "\n",
              "    [theme=dark] .colab-df-convert {\n",
              "      background-color: #3B4455;\n",
              "      fill: #D2E3FC;\n",
              "    }\n",
              "\n",
              "    [theme=dark] .colab-df-convert:hover {\n",
              "      background-color: #434B5C;\n",
              "      box-shadow: 0px 1px 3px 1px rgba(0, 0, 0, 0.15);\n",
              "      filter: drop-shadow(0px 1px 2px rgba(0, 0, 0, 0.3));\n",
              "      fill: #FFFFFF;\n",
              "    }\n",
              "  </style>\n",
              "\n",
              "      <script>\n",
              "        const buttonEl =\n",
              "          document.querySelector('#df-227556df-a63d-47ea-b10b-49afb9435c26 button.colab-df-convert');\n",
              "        buttonEl.style.display =\n",
              "          google.colab.kernel.accessAllowed ? 'block' : 'none';\n",
              "\n",
              "        async function convertToInteractive(key) {\n",
              "          const element = document.querySelector('#df-227556df-a63d-47ea-b10b-49afb9435c26');\n",
              "          const dataTable =\n",
              "            await google.colab.kernel.invokeFunction('convertToInteractive',\n",
              "                                                     [key], {});\n",
              "          if (!dataTable) return;\n",
              "\n",
              "          const docLinkHtml = 'Like what you see? Visit the ' +\n",
              "            '<a target=\"_blank\" href=https://colab.research.google.com/notebooks/data_table.ipynb>data table notebook</a>'\n",
              "            + ' to learn more about interactive tables.';\n",
              "          element.innerHTML = '';\n",
              "          dataTable['output_type'] = 'display_data';\n",
              "          await google.colab.output.renderOutput(dataTable, element);\n",
              "          const docLink = document.createElement('div');\n",
              "          docLink.innerHTML = docLinkHtml;\n",
              "          element.appendChild(docLink);\n",
              "        }\n",
              "      </script>\n",
              "    </div>\n",
              "  </div>\n",
              "  "
            ],
            "text/plain": [
              "       Year_Factor  state_factor_enc  ...  floor_area  year_built\n",
              "13184          6.0               4.0  ...     86700.0      1959.0\n",
              "18163          2.0               5.0  ...    574857.0      1990.0\n",
              "74041          6.0               2.0  ...     70200.0      1979.0\n",
              "16247          1.0               5.0  ...   2837932.0      1970.0\n",
              "50301          5.0               5.0  ...     57960.0      1928.0\n",
              "...            ...               ...  ...         ...         ...\n",
              "37194          4.0               5.0  ...    189595.0      1956.0\n",
              "6265           4.0               3.0  ...    115323.0      1959.0\n",
              "54886          6.0               5.0  ...    104400.0      1971.0\n",
              "860            2.0               0.0  ...    249960.0      2000.0\n",
              "15795          1.0               5.0  ...     69046.0      1924.0\n",
              "\n",
              "[53029 rows x 5 columns]"
            ]
          },
          "metadata": {},
          "execution_count": 74
        }
      ]
    },
    {
      "cell_type": "code",
      "source": [
        "# Replace NaN values in year_built - X_train\n",
        "X_train['year_built_imputed'] = round(X_train_copy_knn_imputed['year_built'])\n",
        "\n",
        "print(train_data.year_built_imputed.isnull().sum())\n",
        "X_train[['year_built', 'year_built_imputed']]"
      ],
      "metadata": {
        "id": "cOjdXhHl8Fmb",
        "colab": {
          "base_uri": "https://localhost:8080/",
          "height": 442
        },
        "outputId": "b3479c68-5556-4925-9f4e-58aeeacd64f1"
      },
      "execution_count": null,
      "outputs": [
        {
          "output_type": "stream",
          "name": "stdout",
          "text": [
            "22728\n"
          ]
        },
        {
          "output_type": "execute_result",
          "data": {
            "text/html": [
              "\n",
              "  <div id=\"df-1c8fd2ae-8c16-4052-9b5b-88553bcdac6f\">\n",
              "    <div class=\"colab-df-container\">\n",
              "      <div>\n",
              "<style scoped>\n",
              "    .dataframe tbody tr th:only-of-type {\n",
              "        vertical-align: middle;\n",
              "    }\n",
              "\n",
              "    .dataframe tbody tr th {\n",
              "        vertical-align: top;\n",
              "    }\n",
              "\n",
              "    .dataframe thead th {\n",
              "        text-align: right;\n",
              "    }\n",
              "</style>\n",
              "<table border=\"1\" class=\"dataframe\">\n",
              "  <thead>\n",
              "    <tr style=\"text-align: right;\">\n",
              "      <th></th>\n",
              "      <th>year_built</th>\n",
              "      <th>year_built_imputed</th>\n",
              "    </tr>\n",
              "  </thead>\n",
              "  <tbody>\n",
              "    <tr>\n",
              "      <th>13184</th>\n",
              "      <td>1959.0</td>\n",
              "      <td>1959.0</td>\n",
              "    </tr>\n",
              "    <tr>\n",
              "      <th>18163</th>\n",
              "      <td>1990.0</td>\n",
              "      <td>1990.0</td>\n",
              "    </tr>\n",
              "    <tr>\n",
              "      <th>74041</th>\n",
              "      <td>1979.0</td>\n",
              "      <td>1979.0</td>\n",
              "    </tr>\n",
              "    <tr>\n",
              "      <th>16247</th>\n",
              "      <td>1970.0</td>\n",
              "      <td>1970.0</td>\n",
              "    </tr>\n",
              "    <tr>\n",
              "      <th>50301</th>\n",
              "      <td>1928.0</td>\n",
              "      <td>1928.0</td>\n",
              "    </tr>\n",
              "    <tr>\n",
              "      <th>...</th>\n",
              "      <td>...</td>\n",
              "      <td>...</td>\n",
              "    </tr>\n",
              "    <tr>\n",
              "      <th>37194</th>\n",
              "      <td>1956.0</td>\n",
              "      <td>1956.0</td>\n",
              "    </tr>\n",
              "    <tr>\n",
              "      <th>6265</th>\n",
              "      <td>1959.0</td>\n",
              "      <td>1959.0</td>\n",
              "    </tr>\n",
              "    <tr>\n",
              "      <th>54886</th>\n",
              "      <td>1971.0</td>\n",
              "      <td>1971.0</td>\n",
              "    </tr>\n",
              "    <tr>\n",
              "      <th>860</th>\n",
              "      <td>2000.0</td>\n",
              "      <td>2000.0</td>\n",
              "    </tr>\n",
              "    <tr>\n",
              "      <th>15795</th>\n",
              "      <td>1924.0</td>\n",
              "      <td>1924.0</td>\n",
              "    </tr>\n",
              "  </tbody>\n",
              "</table>\n",
              "<p>53029 rows × 2 columns</p>\n",
              "</div>\n",
              "      <button class=\"colab-df-convert\" onclick=\"convertToInteractive('df-1c8fd2ae-8c16-4052-9b5b-88553bcdac6f')\"\n",
              "              title=\"Convert this dataframe to an interactive table.\"\n",
              "              style=\"display:none;\">\n",
              "        \n",
              "  <svg xmlns=\"http://www.w3.org/2000/svg\" height=\"24px\"viewBox=\"0 0 24 24\"\n",
              "       width=\"24px\">\n",
              "    <path d=\"M0 0h24v24H0V0z\" fill=\"none\"/>\n",
              "    <path d=\"M18.56 5.44l.94 2.06.94-2.06 2.06-.94-2.06-.94-.94-2.06-.94 2.06-2.06.94zm-11 1L8.5 8.5l.94-2.06 2.06-.94-2.06-.94L8.5 2.5l-.94 2.06-2.06.94zm10 10l.94 2.06.94-2.06 2.06-.94-2.06-.94-.94-2.06-.94 2.06-2.06.94z\"/><path d=\"M17.41 7.96l-1.37-1.37c-.4-.4-.92-.59-1.43-.59-.52 0-1.04.2-1.43.59L10.3 9.45l-7.72 7.72c-.78.78-.78 2.05 0 2.83L4 21.41c.39.39.9.59 1.41.59.51 0 1.02-.2 1.41-.59l7.78-7.78 2.81-2.81c.8-.78.8-2.07 0-2.86zM5.41 20L4 18.59l7.72-7.72 1.47 1.35L5.41 20z\"/>\n",
              "  </svg>\n",
              "      </button>\n",
              "      \n",
              "  <style>\n",
              "    .colab-df-container {\n",
              "      display:flex;\n",
              "      flex-wrap:wrap;\n",
              "      gap: 12px;\n",
              "    }\n",
              "\n",
              "    .colab-df-convert {\n",
              "      background-color: #E8F0FE;\n",
              "      border: none;\n",
              "      border-radius: 50%;\n",
              "      cursor: pointer;\n",
              "      display: none;\n",
              "      fill: #1967D2;\n",
              "      height: 32px;\n",
              "      padding: 0 0 0 0;\n",
              "      width: 32px;\n",
              "    }\n",
              "\n",
              "    .colab-df-convert:hover {\n",
              "      background-color: #E2EBFA;\n",
              "      box-shadow: 0px 1px 2px rgba(60, 64, 67, 0.3), 0px 1px 3px 1px rgba(60, 64, 67, 0.15);\n",
              "      fill: #174EA6;\n",
              "    }\n",
              "\n",
              "    [theme=dark] .colab-df-convert {\n",
              "      background-color: #3B4455;\n",
              "      fill: #D2E3FC;\n",
              "    }\n",
              "\n",
              "    [theme=dark] .colab-df-convert:hover {\n",
              "      background-color: #434B5C;\n",
              "      box-shadow: 0px 1px 3px 1px rgba(0, 0, 0, 0.15);\n",
              "      filter: drop-shadow(0px 1px 2px rgba(0, 0, 0, 0.3));\n",
              "      fill: #FFFFFF;\n",
              "    }\n",
              "  </style>\n",
              "\n",
              "      <script>\n",
              "        const buttonEl =\n",
              "          document.querySelector('#df-1c8fd2ae-8c16-4052-9b5b-88553bcdac6f button.colab-df-convert');\n",
              "        buttonEl.style.display =\n",
              "          google.colab.kernel.accessAllowed ? 'block' : 'none';\n",
              "\n",
              "        async function convertToInteractive(key) {\n",
              "          const element = document.querySelector('#df-1c8fd2ae-8c16-4052-9b5b-88553bcdac6f');\n",
              "          const dataTable =\n",
              "            await google.colab.kernel.invokeFunction('convertToInteractive',\n",
              "                                                     [key], {});\n",
              "          if (!dataTable) return;\n",
              "\n",
              "          const docLinkHtml = 'Like what you see? Visit the ' +\n",
              "            '<a target=\"_blank\" href=https://colab.research.google.com/notebooks/data_table.ipynb>data table notebook</a>'\n",
              "            + ' to learn more about interactive tables.';\n",
              "          element.innerHTML = '';\n",
              "          dataTable['output_type'] = 'display_data';\n",
              "          await google.colab.output.renderOutput(dataTable, element);\n",
              "          const docLink = document.createElement('div');\n",
              "          docLink.innerHTML = docLinkHtml;\n",
              "          element.appendChild(docLink);\n",
              "        }\n",
              "      </script>\n",
              "    </div>\n",
              "  </div>\n",
              "  "
            ],
            "text/plain": [
              "       year_built  year_built_imputed\n",
              "13184      1959.0              1959.0\n",
              "18163      1990.0              1990.0\n",
              "74041      1979.0              1979.0\n",
              "16247      1970.0              1970.0\n",
              "50301      1928.0              1928.0\n",
              "...           ...                 ...\n",
              "37194      1956.0              1956.0\n",
              "6265       1959.0              1959.0\n",
              "54886      1971.0              1971.0\n",
              "860        2000.0              2000.0\n",
              "15795      1924.0              1924.0\n",
              "\n",
              "[53029 rows x 2 columns]"
            ]
          },
          "metadata": {},
          "execution_count": 77
        }
      ]
    },
    {
      "cell_type": "code",
      "source": [
        "X_test['year_built_imputed'] = round(X_test_copy_knn_imputed['year_built'])\n",
        "\n",
        "print(X_test.year_built_imputed.isnull().sum())\n",
        "X_test[['year_built', 'year_built_imputed']]"
      ],
      "metadata": {
        "id": "YaxAAUke8Uk1",
        "colab": {
          "base_uri": "https://localhost:8080/",
          "height": 442
        },
        "outputId": "57b3018b-02e4-4e76-a2eb-50793226c607"
      },
      "execution_count": null,
      "outputs": [
        {
          "output_type": "stream",
          "name": "stdout",
          "text": [
            "0\n"
          ]
        },
        {
          "output_type": "execute_result",
          "data": {
            "text/html": [
              "\n",
              "  <div id=\"df-83d16a33-dfa8-44e3-975b-fd9d76b3aab8\">\n",
              "    <div class=\"colab-df-container\">\n",
              "      <div>\n",
              "<style scoped>\n",
              "    .dataframe tbody tr th:only-of-type {\n",
              "        vertical-align: middle;\n",
              "    }\n",
              "\n",
              "    .dataframe tbody tr th {\n",
              "        vertical-align: top;\n",
              "    }\n",
              "\n",
              "    .dataframe thead th {\n",
              "        text-align: right;\n",
              "    }\n",
              "</style>\n",
              "<table border=\"1\" class=\"dataframe\">\n",
              "  <thead>\n",
              "    <tr style=\"text-align: right;\">\n",
              "      <th></th>\n",
              "      <th>year_built</th>\n",
              "      <th>year_built_imputed</th>\n",
              "    </tr>\n",
              "  </thead>\n",
              "  <tbody>\n",
              "    <tr>\n",
              "      <th>29922</th>\n",
              "      <td>1990.0</td>\n",
              "      <td>1990.0</td>\n",
              "    </tr>\n",
              "    <tr>\n",
              "      <th>55120</th>\n",
              "      <td>1928.0</td>\n",
              "      <td>1928.0</td>\n",
              "    </tr>\n",
              "    <tr>\n",
              "      <th>52830</th>\n",
              "      <td>1941.0</td>\n",
              "      <td>1941.0</td>\n",
              "    </tr>\n",
              "    <tr>\n",
              "      <th>47809</th>\n",
              "      <td>1957.0</td>\n",
              "      <td>1957.0</td>\n",
              "    </tr>\n",
              "    <tr>\n",
              "      <th>4663</th>\n",
              "      <td>1931.0</td>\n",
              "      <td>1931.0</td>\n",
              "    </tr>\n",
              "    <tr>\n",
              "      <th>...</th>\n",
              "      <td>...</td>\n",
              "      <td>...</td>\n",
              "    </tr>\n",
              "    <tr>\n",
              "      <th>58035</th>\n",
              "      <td>1985.0</td>\n",
              "      <td>1985.0</td>\n",
              "    </tr>\n",
              "    <tr>\n",
              "      <th>22091</th>\n",
              "      <td>NaN</td>\n",
              "      <td>1938.0</td>\n",
              "    </tr>\n",
              "    <tr>\n",
              "      <th>45011</th>\n",
              "      <td>1898.0</td>\n",
              "      <td>1898.0</td>\n",
              "    </tr>\n",
              "    <tr>\n",
              "      <th>24314</th>\n",
              "      <td>1949.0</td>\n",
              "      <td>1949.0</td>\n",
              "    </tr>\n",
              "    <tr>\n",
              "      <th>16969</th>\n",
              "      <td>1916.0</td>\n",
              "      <td>1916.0</td>\n",
              "    </tr>\n",
              "  </tbody>\n",
              "</table>\n",
              "<p>22728 rows × 2 columns</p>\n",
              "</div>\n",
              "      <button class=\"colab-df-convert\" onclick=\"convertToInteractive('df-83d16a33-dfa8-44e3-975b-fd9d76b3aab8')\"\n",
              "              title=\"Convert this dataframe to an interactive table.\"\n",
              "              style=\"display:none;\">\n",
              "        \n",
              "  <svg xmlns=\"http://www.w3.org/2000/svg\" height=\"24px\"viewBox=\"0 0 24 24\"\n",
              "       width=\"24px\">\n",
              "    <path d=\"M0 0h24v24H0V0z\" fill=\"none\"/>\n",
              "    <path d=\"M18.56 5.44l.94 2.06.94-2.06 2.06-.94-2.06-.94-.94-2.06-.94 2.06-2.06.94zm-11 1L8.5 8.5l.94-2.06 2.06-.94-2.06-.94L8.5 2.5l-.94 2.06-2.06.94zm10 10l.94 2.06.94-2.06 2.06-.94-2.06-.94-.94-2.06-.94 2.06-2.06.94z\"/><path d=\"M17.41 7.96l-1.37-1.37c-.4-.4-.92-.59-1.43-.59-.52 0-1.04.2-1.43.59L10.3 9.45l-7.72 7.72c-.78.78-.78 2.05 0 2.83L4 21.41c.39.39.9.59 1.41.59.51 0 1.02-.2 1.41-.59l7.78-7.78 2.81-2.81c.8-.78.8-2.07 0-2.86zM5.41 20L4 18.59l7.72-7.72 1.47 1.35L5.41 20z\"/>\n",
              "  </svg>\n",
              "      </button>\n",
              "      \n",
              "  <style>\n",
              "    .colab-df-container {\n",
              "      display:flex;\n",
              "      flex-wrap:wrap;\n",
              "      gap: 12px;\n",
              "    }\n",
              "\n",
              "    .colab-df-convert {\n",
              "      background-color: #E8F0FE;\n",
              "      border: none;\n",
              "      border-radius: 50%;\n",
              "      cursor: pointer;\n",
              "      display: none;\n",
              "      fill: #1967D2;\n",
              "      height: 32px;\n",
              "      padding: 0 0 0 0;\n",
              "      width: 32px;\n",
              "    }\n",
              "\n",
              "    .colab-df-convert:hover {\n",
              "      background-color: #E2EBFA;\n",
              "      box-shadow: 0px 1px 2px rgba(60, 64, 67, 0.3), 0px 1px 3px 1px rgba(60, 64, 67, 0.15);\n",
              "      fill: #174EA6;\n",
              "    }\n",
              "\n",
              "    [theme=dark] .colab-df-convert {\n",
              "      background-color: #3B4455;\n",
              "      fill: #D2E3FC;\n",
              "    }\n",
              "\n",
              "    [theme=dark] .colab-df-convert:hover {\n",
              "      background-color: #434B5C;\n",
              "      box-shadow: 0px 1px 3px 1px rgba(0, 0, 0, 0.15);\n",
              "      filter: drop-shadow(0px 1px 2px rgba(0, 0, 0, 0.3));\n",
              "      fill: #FFFFFF;\n",
              "    }\n",
              "  </style>\n",
              "\n",
              "      <script>\n",
              "        const buttonEl =\n",
              "          document.querySelector('#df-83d16a33-dfa8-44e3-975b-fd9d76b3aab8 button.colab-df-convert');\n",
              "        buttonEl.style.display =\n",
              "          google.colab.kernel.accessAllowed ? 'block' : 'none';\n",
              "\n",
              "        async function convertToInteractive(key) {\n",
              "          const element = document.querySelector('#df-83d16a33-dfa8-44e3-975b-fd9d76b3aab8');\n",
              "          const dataTable =\n",
              "            await google.colab.kernel.invokeFunction('convertToInteractive',\n",
              "                                                     [key], {});\n",
              "          if (!dataTable) return;\n",
              "\n",
              "          const docLinkHtml = 'Like what you see? Visit the ' +\n",
              "            '<a target=\"_blank\" href=https://colab.research.google.com/notebooks/data_table.ipynb>data table notebook</a>'\n",
              "            + ' to learn more about interactive tables.';\n",
              "          element.innerHTML = '';\n",
              "          dataTable['output_type'] = 'display_data';\n",
              "          await google.colab.output.renderOutput(dataTable, element);\n",
              "          const docLink = document.createElement('div');\n",
              "          docLink.innerHTML = docLinkHtml;\n",
              "          element.appendChild(docLink);\n",
              "        }\n",
              "      </script>\n",
              "    </div>\n",
              "  </div>\n",
              "  "
            ],
            "text/plain": [
              "       year_built  year_built_imputed\n",
              "29922      1990.0              1990.0\n",
              "55120      1928.0              1928.0\n",
              "52830      1941.0              1941.0\n",
              "47809      1957.0              1957.0\n",
              "4663       1931.0              1931.0\n",
              "...           ...                 ...\n",
              "58035      1985.0              1985.0\n",
              "22091         NaN              1938.0\n",
              "45011      1898.0              1898.0\n",
              "24314      1949.0              1949.0\n",
              "16969      1916.0              1916.0\n",
              "\n",
              "[22728 rows x 2 columns]"
            ]
          },
          "metadata": {},
          "execution_count": 78
        }
      ]
    },
    {
      "cell_type": "code",
      "source": [],
      "metadata": {
        "id": "dT4fXyJc8VX3"
      },
      "execution_count": null,
      "outputs": []
    },
    {
      "cell_type": "markdown",
      "source": [
        "### Imputation - LGBM"
      ],
      "metadata": {
        "id": "cXweQhP3Vzbn"
      }
    },
    {
      "cell_type": "code",
      "source": [
        "# To prevent cloning the repo in Drive folder\n",
        "import os\n",
        "os.chdir('/content')"
      ],
      "metadata": {
        "id": "t7jkWI92ve4b"
      },
      "execution_count": null,
      "outputs": []
    },
    {
      "cell_type": "code",
      "source": [
        "!git clone https://github.com/analokmaus/kuma_utils.git"
      ],
      "metadata": {
        "id": "oPloIccmUzZN",
        "colab": {
          "base_uri": "https://localhost:8080/"
        },
        "outputId": "48047b22-a95f-490c-aebd-423463c5abf1"
      },
      "execution_count": null,
      "outputs": [
        {
          "output_type": "stream",
          "name": "stdout",
          "text": [
            "Cloning into 'kuma_utils'...\n",
            "remote: Enumerating objects: 895, done.\u001b[K\n",
            "remote: Counting objects: 100% (611/611), done.\u001b[K\n",
            "remote: Compressing objects: 100% (429/429), done.\u001b[K\n",
            "remote: Total 895 (delta 379), reused 393 (delta 172), pack-reused 284\u001b[K\n",
            "Receiving objects: 100% (895/895), 694.50 KiB | 6.68 MiB/s, done.\n",
            "Resolving deltas: 100% (566/566), done.\n"
          ]
        }
      ]
    },
    {
      "cell_type": "code",
      "source": [
        "train_data.isnull().sum()"
      ],
      "metadata": {
        "colab": {
          "base_uri": "https://localhost:8080/"
        },
        "id": "172FZfXbWIGh",
        "outputId": "45b8e79c-98d3-4c87-e2cf-4a70c504904b"
      },
      "execution_count": null,
      "outputs": [
        {
          "output_type": "execute_result",
          "data": {
            "text/plain": [
              "Year_Factor                   0\n",
              "State_Factor                  0\n",
              "facility_type                 0\n",
              "floor_area                    0\n",
              "year_built                 1837\n",
              "energy_star_rating        26709\n",
              "ELEVATION                     0\n",
              "cooling_degree_days           0\n",
              "heating_degree_days           0\n",
              "precipitation_inches          0\n",
              "snowfall_inches               0\n",
              "snowdepth_inches              0\n",
              "days_below_30F                0\n",
              "days_below_20F                0\n",
              "days_below_10F                0\n",
              "days_below_0F                 0\n",
              "days_above_80F                0\n",
              "days_above_90F                0\n",
              "days_with_fog             45796\n",
              "site_eui                      0\n",
              "Energy                        0\n",
              "winter_average_temp           0\n",
              "summer_average_temp           0\n",
              "fall_average_temp             0\n",
              "spring_average_temp           0\n",
              "winter_average_maxtemp        0\n",
              "summer_average_maxtemp        0\n",
              "fall_average_maxtemp          0\n",
              "spring_average_maxtemp        0\n",
              "winter_average_mintemp        0\n",
              "summer_average_mintemp        0\n",
              "fall_average_mintemp          0\n",
              "spring_average_mintemp        0\n",
              "facility_type_group           0\n",
              "year_built_imputed        22728\n",
              "dtype: int64"
            ]
          },
          "metadata": {},
          "execution_count": 81
        }
      ]
    },
    {
      "cell_type": "code",
      "source": [
        "import sys\n",
        "sys.path.append(\"kuma_utils/\")\n",
        "from kuma_utils.preprocessing.imputer import LGBMImputer"
      ],
      "metadata": {
        "id": "9qFugP5UU_4G"
      },
      "execution_count": null,
      "outputs": []
    },
    {
      "cell_type": "code",
      "source": [
        "#By Nandidni\n",
        "selective_columns = ['ELEVATION', 'cooling_degree_days',\n",
        "       'heating_degree_days', 'precipitation_inches', 'snowfall_inches',\n",
        "       'snowdepth_inches', 'avg_temp','winter_average_temp', 'summer_average_temp',\n",
        "       'fall_average_temp', 'spring_average_temp',\n",
        "       'winter_average_maxtemp', 'summer_average_maxtemp',\n",
        "       'fall_average_maxtemp', 'spring_average_maxtemp',\n",
        "       'winter_average_mintemp', 'summer_average_mintemp',\n",
        "       'fall_average_mintemp', 'spring_average_mintemp', 'days_with_fog']"
      ],
      "metadata": {
        "id": "0AvHbK3bs2uU"
      },
      "execution_count": null,
      "outputs": []
    },
    {
      "cell_type": "code",
      "source": [
        "%%time\n",
        "lgbm_imtr = LGBMImputer(n_iter=200, verbose=True)\n",
        "\n",
        "lgbm_imtr.fit(X_train)\n",
        "train_lgbmimp = lgbm_imtr.transform(X_train[selective_columns])"
      ],
      "metadata": {
        "colab": {
          "base_uri": "https://localhost:8080/",
          "height": 465,
          "referenced_widgets": [
            "c71bad06c3ce486db480ebc5c2284f80",
            "3850a704ec144b19aed62af769d9c2d3",
            "a767ffc380dd4a379f30566c50deb9ff",
            "0d95f418401c498dacfe701aa49a7fd9",
            "4b157bfe51514e56a68fabcd831054a8",
            "11816d2e907e436ea82942d420e9cc1f",
            "4fce7ad71c7f4111bad55e62ae246bcf",
            "64e8a02e68f14b42b4d731464dbc6535",
            "84aa851d349e4551b2649576924d342f",
            "744015647f0641769e842516f6291187",
            "3bd211bfe5354844a95fb1a452450d05"
          ]
        },
        "id": "r38aFRnSVgdQ",
        "outputId": "b0d9ec99-5a9c-420b-ca39-d0bb78a19c60"
      },
      "execution_count": null,
      "outputs": [
        {
          "output_type": "display_data",
          "data": {
            "application/vnd.jupyter.widget-view+json": {
              "model_id": "c71bad06c3ce486db480ebc5c2284f80",
              "version_minor": 0,
              "version_major": 2
            },
            "text/plain": [
              "  0%|          | 0/3 [00:00<?, ?it/s]"
            ]
          },
          "metadata": {}
        },
        {
          "output_type": "error",
          "ename": "ValueError",
          "evalue": "ignored",
          "traceback": [
            "\u001b[0;31m---------------------------------------------------------------------------\u001b[0m",
            "\u001b[0;31mValueError\u001b[0m                                Traceback (most recent call last)",
            "\u001b[0;32m<ipython-input-85-53ff57fb6be0>\u001b[0m in \u001b[0;36m<module>\u001b[0;34m()\u001b[0m\n\u001b[0;32m----> 1\u001b[0;31m \u001b[0mget_ipython\u001b[0m\u001b[0;34m(\u001b[0m\u001b[0;34m)\u001b[0m\u001b[0;34m.\u001b[0m\u001b[0mrun_cell_magic\u001b[0m\u001b[0;34m(\u001b[0m\u001b[0;34m'time'\u001b[0m\u001b[0;34m,\u001b[0m \u001b[0;34m''\u001b[0m\u001b[0;34m,\u001b[0m \u001b[0;34m'lgbm_imtr = LGBMImputer(n_iter=200, verbose=True)\\n\\nlgbm_imtr.fit(X_train)\\ntrain_lgbmimp = lgbm_imtr.transform(X_train[selective_columns])'\u001b[0m\u001b[0;34m)\u001b[0m\u001b[0;34m\u001b[0m\u001b[0;34m\u001b[0m\u001b[0m\n\u001b[0m",
            "\u001b[0;32m/usr/local/lib/python3.7/dist-packages/IPython/core/interactiveshell.py\u001b[0m in \u001b[0;36mrun_cell_magic\u001b[0;34m(self, magic_name, line, cell)\u001b[0m\n\u001b[1;32m   2115\u001b[0m             \u001b[0mmagic_arg_s\u001b[0m \u001b[0;34m=\u001b[0m \u001b[0mself\u001b[0m\u001b[0;34m.\u001b[0m\u001b[0mvar_expand\u001b[0m\u001b[0;34m(\u001b[0m\u001b[0mline\u001b[0m\u001b[0;34m,\u001b[0m \u001b[0mstack_depth\u001b[0m\u001b[0;34m)\u001b[0m\u001b[0;34m\u001b[0m\u001b[0;34m\u001b[0m\u001b[0m\n\u001b[1;32m   2116\u001b[0m             \u001b[0;32mwith\u001b[0m \u001b[0mself\u001b[0m\u001b[0;34m.\u001b[0m\u001b[0mbuiltin_trap\u001b[0m\u001b[0;34m:\u001b[0m\u001b[0;34m\u001b[0m\u001b[0;34m\u001b[0m\u001b[0m\n\u001b[0;32m-> 2117\u001b[0;31m                 \u001b[0mresult\u001b[0m \u001b[0;34m=\u001b[0m \u001b[0mfn\u001b[0m\u001b[0;34m(\u001b[0m\u001b[0mmagic_arg_s\u001b[0m\u001b[0;34m,\u001b[0m \u001b[0mcell\u001b[0m\u001b[0;34m)\u001b[0m\u001b[0;34m\u001b[0m\u001b[0;34m\u001b[0m\u001b[0m\n\u001b[0m\u001b[1;32m   2118\u001b[0m             \u001b[0;32mreturn\u001b[0m \u001b[0mresult\u001b[0m\u001b[0;34m\u001b[0m\u001b[0;34m\u001b[0m\u001b[0m\n\u001b[1;32m   2119\u001b[0m \u001b[0;34m\u001b[0m\u001b[0m\n",
            "\u001b[0;32m<decorator-gen-53>\u001b[0m in \u001b[0;36mtime\u001b[0;34m(self, line, cell, local_ns)\u001b[0m\n",
            "\u001b[0;32m/usr/local/lib/python3.7/dist-packages/IPython/core/magic.py\u001b[0m in \u001b[0;36m<lambda>\u001b[0;34m(f, *a, **k)\u001b[0m\n\u001b[1;32m    186\u001b[0m     \u001b[0;31m# but it's overkill for just that one bit of state.\u001b[0m\u001b[0;34m\u001b[0m\u001b[0;34m\u001b[0m\u001b[0;34m\u001b[0m\u001b[0m\n\u001b[1;32m    187\u001b[0m     \u001b[0;32mdef\u001b[0m \u001b[0mmagic_deco\u001b[0m\u001b[0;34m(\u001b[0m\u001b[0marg\u001b[0m\u001b[0;34m)\u001b[0m\u001b[0;34m:\u001b[0m\u001b[0;34m\u001b[0m\u001b[0;34m\u001b[0m\u001b[0m\n\u001b[0;32m--> 188\u001b[0;31m         \u001b[0mcall\u001b[0m \u001b[0;34m=\u001b[0m \u001b[0;32mlambda\u001b[0m \u001b[0mf\u001b[0m\u001b[0;34m,\u001b[0m \u001b[0;34m*\u001b[0m\u001b[0ma\u001b[0m\u001b[0;34m,\u001b[0m \u001b[0;34m**\u001b[0m\u001b[0mk\u001b[0m\u001b[0;34m:\u001b[0m \u001b[0mf\u001b[0m\u001b[0;34m(\u001b[0m\u001b[0;34m*\u001b[0m\u001b[0ma\u001b[0m\u001b[0;34m,\u001b[0m \u001b[0;34m**\u001b[0m\u001b[0mk\u001b[0m\u001b[0;34m)\u001b[0m\u001b[0;34m\u001b[0m\u001b[0;34m\u001b[0m\u001b[0m\n\u001b[0m\u001b[1;32m    189\u001b[0m \u001b[0;34m\u001b[0m\u001b[0m\n\u001b[1;32m    190\u001b[0m         \u001b[0;32mif\u001b[0m \u001b[0mcallable\u001b[0m\u001b[0;34m(\u001b[0m\u001b[0marg\u001b[0m\u001b[0;34m)\u001b[0m\u001b[0;34m:\u001b[0m\u001b[0;34m\u001b[0m\u001b[0;34m\u001b[0m\u001b[0m\n",
            "\u001b[0;32m/usr/local/lib/python3.7/dist-packages/IPython/core/magics/execution.py\u001b[0m in \u001b[0;36mtime\u001b[0;34m(self, line, cell, local_ns)\u001b[0m\n\u001b[1;32m   1191\u001b[0m         \u001b[0;32melse\u001b[0m\u001b[0;34m:\u001b[0m\u001b[0;34m\u001b[0m\u001b[0;34m\u001b[0m\u001b[0m\n\u001b[1;32m   1192\u001b[0m             \u001b[0mst\u001b[0m \u001b[0;34m=\u001b[0m \u001b[0mclock2\u001b[0m\u001b[0;34m(\u001b[0m\u001b[0;34m)\u001b[0m\u001b[0;34m\u001b[0m\u001b[0;34m\u001b[0m\u001b[0m\n\u001b[0;32m-> 1193\u001b[0;31m             \u001b[0mexec\u001b[0m\u001b[0;34m(\u001b[0m\u001b[0mcode\u001b[0m\u001b[0;34m,\u001b[0m \u001b[0mglob\u001b[0m\u001b[0;34m,\u001b[0m \u001b[0mlocal_ns\u001b[0m\u001b[0;34m)\u001b[0m\u001b[0;34m\u001b[0m\u001b[0;34m\u001b[0m\u001b[0m\n\u001b[0m\u001b[1;32m   1194\u001b[0m             \u001b[0mend\u001b[0m \u001b[0;34m=\u001b[0m \u001b[0mclock2\u001b[0m\u001b[0;34m(\u001b[0m\u001b[0;34m)\u001b[0m\u001b[0;34m\u001b[0m\u001b[0;34m\u001b[0m\u001b[0m\n\u001b[1;32m   1195\u001b[0m             \u001b[0mout\u001b[0m \u001b[0;34m=\u001b[0m \u001b[0;32mNone\u001b[0m\u001b[0;34m\u001b[0m\u001b[0;34m\u001b[0m\u001b[0m\n",
            "\u001b[0;32m<timed exec>\u001b[0m in \u001b[0;36m<module>\u001b[0;34m()\u001b[0m\n",
            "\u001b[0;32m/content/kuma_utils/preprocessing/imputer.py\u001b[0m in \u001b[0;36mfit\u001b[0;34m(self, X, y)\u001b[0m\n\u001b[1;32m     87\u001b[0m                 \u001b[0mnum_boost_round\u001b[0m\u001b[0;34m=\u001b[0m\u001b[0mself\u001b[0m\u001b[0;34m.\u001b[0m\u001b[0mn_iter\u001b[0m\u001b[0;34m,\u001b[0m\u001b[0;34m\u001b[0m\u001b[0;34m\u001b[0m\u001b[0m\n\u001b[1;32m     88\u001b[0m                 \u001b[0mearly_stopping_rounds\u001b[0m\u001b[0;34m=\u001b[0m\u001b[0mearly_stopping_rounds\u001b[0m\u001b[0;34m,\u001b[0m\u001b[0;34m\u001b[0m\u001b[0;34m\u001b[0m\u001b[0m\n\u001b[0;32m---> 89\u001b[0;31m                 \u001b[0mverbose_eval\u001b[0m\u001b[0;34m=\u001b[0m\u001b[0;36m0\u001b[0m\u001b[0;34m,\u001b[0m\u001b[0;34m\u001b[0m\u001b[0;34m\u001b[0m\u001b[0m\n\u001b[0m\u001b[1;32m     90\u001b[0m             )\n\u001b[1;32m     91\u001b[0m \u001b[0;34m\u001b[0m\u001b[0m\n",
            "\u001b[0;32m/usr/local/lib/python3.7/dist-packages/lightgbm/engine.py\u001b[0m in \u001b[0;36mtrain\u001b[0;34m(params, train_set, num_boost_round, valid_sets, valid_names, fobj, feval, init_model, feature_name, categorical_feature, early_stopping_rounds, evals_result, verbose_eval, learning_rates, keep_training_booster, callbacks)\u001b[0m\n\u001b[1;32m    195\u001b[0m     \u001b[0;31m# construct booster\u001b[0m\u001b[0;34m\u001b[0m\u001b[0;34m\u001b[0m\u001b[0;34m\u001b[0m\u001b[0m\n\u001b[1;32m    196\u001b[0m     \u001b[0;32mtry\u001b[0m\u001b[0;34m:\u001b[0m\u001b[0;34m\u001b[0m\u001b[0;34m\u001b[0m\u001b[0m\n\u001b[0;32m--> 197\u001b[0;31m         \u001b[0mbooster\u001b[0m \u001b[0;34m=\u001b[0m \u001b[0mBooster\u001b[0m\u001b[0;34m(\u001b[0m\u001b[0mparams\u001b[0m\u001b[0;34m=\u001b[0m\u001b[0mparams\u001b[0m\u001b[0;34m,\u001b[0m \u001b[0mtrain_set\u001b[0m\u001b[0;34m=\u001b[0m\u001b[0mtrain_set\u001b[0m\u001b[0;34m)\u001b[0m\u001b[0;34m\u001b[0m\u001b[0;34m\u001b[0m\u001b[0m\n\u001b[0m\u001b[1;32m    198\u001b[0m         \u001b[0;32mif\u001b[0m \u001b[0mis_valid_contain_train\u001b[0m\u001b[0;34m:\u001b[0m\u001b[0;34m\u001b[0m\u001b[0;34m\u001b[0m\u001b[0m\n\u001b[1;32m    199\u001b[0m             \u001b[0mbooster\u001b[0m\u001b[0;34m.\u001b[0m\u001b[0mset_train_data_name\u001b[0m\u001b[0;34m(\u001b[0m\u001b[0mtrain_data_name\u001b[0m\u001b[0;34m)\u001b[0m\u001b[0;34m\u001b[0m\u001b[0;34m\u001b[0m\u001b[0m\n",
            "\u001b[0;32m/usr/local/lib/python3.7/dist-packages/lightgbm/basic.py\u001b[0m in \u001b[0;36m__init__\u001b[0;34m(self, params, train_set, model_file, silent)\u001b[0m\n\u001b[1;32m   1550\u001b[0m             \u001b[0mself\u001b[0m\u001b[0;34m.\u001b[0m\u001b[0mhandle\u001b[0m \u001b[0;34m=\u001b[0m \u001b[0mctypes\u001b[0m\u001b[0;34m.\u001b[0m\u001b[0mc_void_p\u001b[0m\u001b[0;34m(\u001b[0m\u001b[0;34m)\u001b[0m\u001b[0;34m\u001b[0m\u001b[0;34m\u001b[0m\u001b[0m\n\u001b[1;32m   1551\u001b[0m             _safe_call(_LIB.LGBM_BoosterCreate(\n\u001b[0;32m-> 1552\u001b[0;31m                 \u001b[0mtrain_set\u001b[0m\u001b[0;34m.\u001b[0m\u001b[0mconstruct\u001b[0m\u001b[0;34m(\u001b[0m\u001b[0;34m)\u001b[0m\u001b[0;34m.\u001b[0m\u001b[0mhandle\u001b[0m\u001b[0;34m,\u001b[0m\u001b[0;34m\u001b[0m\u001b[0;34m\u001b[0m\u001b[0m\n\u001b[0m\u001b[1;32m   1553\u001b[0m                 \u001b[0mc_str\u001b[0m\u001b[0;34m(\u001b[0m\u001b[0mparams_str\u001b[0m\u001b[0;34m)\u001b[0m\u001b[0;34m,\u001b[0m\u001b[0;34m\u001b[0m\u001b[0;34m\u001b[0m\u001b[0m\n\u001b[1;32m   1554\u001b[0m                 ctypes.byref(self.handle)))\n",
            "\u001b[0;32m/usr/local/lib/python3.7/dist-packages/lightgbm/basic.py\u001b[0m in \u001b[0;36mconstruct\u001b[0;34m(self)\u001b[0m\n\u001b[1;32m    999\u001b[0m                                 \u001b[0minit_score\u001b[0m\u001b[0;34m=\u001b[0m\u001b[0mself\u001b[0m\u001b[0;34m.\u001b[0m\u001b[0minit_score\u001b[0m\u001b[0;34m,\u001b[0m \u001b[0mpredictor\u001b[0m\u001b[0;34m=\u001b[0m\u001b[0mself\u001b[0m\u001b[0;34m.\u001b[0m\u001b[0m_predictor\u001b[0m\u001b[0;34m,\u001b[0m\u001b[0;34m\u001b[0m\u001b[0;34m\u001b[0m\u001b[0m\n\u001b[1;32m   1000\u001b[0m                                 \u001b[0msilent\u001b[0m\u001b[0;34m=\u001b[0m\u001b[0mself\u001b[0m\u001b[0;34m.\u001b[0m\u001b[0msilent\u001b[0m\u001b[0;34m,\u001b[0m \u001b[0mfeature_name\u001b[0m\u001b[0;34m=\u001b[0m\u001b[0mself\u001b[0m\u001b[0;34m.\u001b[0m\u001b[0mfeature_name\u001b[0m\u001b[0;34m,\u001b[0m\u001b[0;34m\u001b[0m\u001b[0;34m\u001b[0m\u001b[0m\n\u001b[0;32m-> 1001\u001b[0;31m                                 categorical_feature=self.categorical_feature, params=self.params)\n\u001b[0m\u001b[1;32m   1002\u001b[0m             \u001b[0;32mif\u001b[0m \u001b[0mself\u001b[0m\u001b[0;34m.\u001b[0m\u001b[0mfree_raw_data\u001b[0m\u001b[0;34m:\u001b[0m\u001b[0;34m\u001b[0m\u001b[0;34m\u001b[0m\u001b[0m\n\u001b[1;32m   1003\u001b[0m                 \u001b[0mself\u001b[0m\u001b[0;34m.\u001b[0m\u001b[0mdata\u001b[0m \u001b[0;34m=\u001b[0m \u001b[0;32mNone\u001b[0m\u001b[0;34m\u001b[0m\u001b[0;34m\u001b[0m\u001b[0m\n",
            "\u001b[0;32m/usr/local/lib/python3.7/dist-packages/lightgbm/basic.py\u001b[0m in \u001b[0;36m_lazy_init\u001b[0;34m(self, data, label, reference, weight, group, init_score, predictor, silent, feature_name, categorical_feature, params)\u001b[0m\n\u001b[1;32m    727\u001b[0m                                                                                              \u001b[0mfeature_name\u001b[0m\u001b[0;34m,\u001b[0m\u001b[0;34m\u001b[0m\u001b[0;34m\u001b[0m\u001b[0m\n\u001b[1;32m    728\u001b[0m                                                                                              \u001b[0mcategorical_feature\u001b[0m\u001b[0;34m,\u001b[0m\u001b[0;34m\u001b[0m\u001b[0;34m\u001b[0m\u001b[0m\n\u001b[0;32m--> 729\u001b[0;31m                                                                                              self.pandas_categorical)\n\u001b[0m\u001b[1;32m    730\u001b[0m         \u001b[0mlabel\u001b[0m \u001b[0;34m=\u001b[0m \u001b[0m_label_from_pandas\u001b[0m\u001b[0;34m(\u001b[0m\u001b[0mlabel\u001b[0m\u001b[0;34m)\u001b[0m\u001b[0;34m\u001b[0m\u001b[0;34m\u001b[0m\u001b[0m\n\u001b[1;32m    731\u001b[0m         \u001b[0mself\u001b[0m\u001b[0;34m.\u001b[0m\u001b[0mdata_has_header\u001b[0m \u001b[0;34m=\u001b[0m \u001b[0;32mFalse\u001b[0m\u001b[0;34m\u001b[0m\u001b[0;34m\u001b[0m\u001b[0m\n",
            "\u001b[0;32m/usr/local/lib/python3.7/dist-packages/lightgbm/basic.py\u001b[0m in \u001b[0;36m_data_from_pandas\u001b[0;34m(data, feature_name, categorical_feature, pandas_categorical)\u001b[0m\n\u001b[1;32m    275\u001b[0m             msg = (\"DataFrame.dtypes for data must be int, float or bool.\\n\"\n\u001b[1;32m    276\u001b[0m                    \"Did not expect the data types in fields \")\n\u001b[0;32m--> 277\u001b[0;31m             \u001b[0;32mraise\u001b[0m \u001b[0mValueError\u001b[0m\u001b[0;34m(\u001b[0m\u001b[0mmsg\u001b[0m \u001b[0;34m+\u001b[0m \u001b[0;34m', '\u001b[0m\u001b[0;34m.\u001b[0m\u001b[0mjoin\u001b[0m\u001b[0;34m(\u001b[0m\u001b[0mbad_fields\u001b[0m\u001b[0;34m)\u001b[0m\u001b[0;34m)\u001b[0m\u001b[0;34m\u001b[0m\u001b[0;34m\u001b[0m\u001b[0m\n\u001b[0m\u001b[1;32m    278\u001b[0m         \u001b[0mdata\u001b[0m \u001b[0;34m=\u001b[0m \u001b[0mdata\u001b[0m\u001b[0;34m.\u001b[0m\u001b[0mvalues\u001b[0m\u001b[0;34m.\u001b[0m\u001b[0mastype\u001b[0m\u001b[0;34m(\u001b[0m\u001b[0;34m'float'\u001b[0m\u001b[0;34m)\u001b[0m\u001b[0;34m\u001b[0m\u001b[0;34m\u001b[0m\u001b[0m\n\u001b[1;32m    279\u001b[0m     \u001b[0;32melse\u001b[0m\u001b[0;34m:\u001b[0m\u001b[0;34m\u001b[0m\u001b[0;34m\u001b[0m\u001b[0m\n",
            "\u001b[0;31mValueError\u001b[0m: DataFrame.dtypes for data must be int, float or bool.\nDid not expect the data types in fields State_Factor, facility_type, facility_type_group"
          ]
        }
      ]
    },
    {
      "cell_type": "code",
      "source": [
        "train_lgbmimp.isnull().sum()"
      ],
      "metadata": {
        "colab": {
          "base_uri": "https://localhost:8080/"
        },
        "id": "88UNYJnVgMWz",
        "outputId": "4c3637d5-798a-435e-fe49-97a8bbf3f151"
      },
      "execution_count": null,
      "outputs": [
        {
          "output_type": "execute_result",
          "data": {
            "text/plain": [
              "facility_type             0\n",
              "floor_area                0\n",
              "year_built                0\n",
              "ELEVATION                 0\n",
              "cooling_degree_days       0\n",
              "heating_degree_days       0\n",
              "precipitation_inches      0\n",
              "snowfall_inches           0\n",
              "snowdepth_inches          0\n",
              "days_below_30F            0\n",
              "days_below_20F            0\n",
              "days_below_10F            0\n",
              "days_below_0F             0\n",
              "days_above_80F            0\n",
              "days_above_90F            0\n",
              "days_with_fog             0\n",
              "site_eui                  0\n",
              "Energy                    0\n",
              "winter_average_temp       0\n",
              "summer_average_temp       0\n",
              "fall_average_temp         0\n",
              "spring_average_temp       0\n",
              "winter_average_maxtemp    0\n",
              "summer_average_maxtemp    0\n",
              "fall_average_maxtemp      0\n",
              "spring_average_maxtemp    0\n",
              "winter_average_mintemp    0\n",
              "summer_average_mintemp    0\n",
              "fall_average_mintemp      0\n",
              "spring_average_mintemp    0\n",
              "dtype: int64"
            ]
          },
          "metadata": {},
          "execution_count": 36
        }
      ]
    },
    {
      "cell_type": "code",
      "source": [
        "train_data['days_with_fog'] = train_lgbmimp['days_with_fog']\n",
        "train_data.isnull().sum()"
      ],
      "metadata": {
        "colab": {
          "base_uri": "https://localhost:8080/"
        },
        "id": "pO0cqz7hwkPr",
        "outputId": "3cf8241c-97c3-427f-df7c-ca3954ccfcae"
      },
      "execution_count": null,
      "outputs": [
        {
          "output_type": "execute_result",
          "data": {
            "text/plain": [
              "facility_type             0\n",
              "floor_area                0\n",
              "year_built                0\n",
              "ELEVATION                 0\n",
              "cooling_degree_days       0\n",
              "heating_degree_days       0\n",
              "precipitation_inches      0\n",
              "snowfall_inches           0\n",
              "snowdepth_inches          0\n",
              "days_below_30F            0\n",
              "days_below_20F            0\n",
              "days_below_10F            0\n",
              "days_below_0F             0\n",
              "days_above_80F            0\n",
              "days_above_90F            0\n",
              "days_with_fog             0\n",
              "site_eui                  0\n",
              "Energy                    0\n",
              "winter_average_temp       0\n",
              "summer_average_temp       0\n",
              "fall_average_temp         0\n",
              "spring_average_temp       0\n",
              "winter_average_maxtemp    0\n",
              "summer_average_maxtemp    0\n",
              "fall_average_maxtemp      0\n",
              "spring_average_maxtemp    0\n",
              "winter_average_mintemp    0\n",
              "summer_average_mintemp    0\n",
              "fall_average_mintemp      0\n",
              "spring_average_mintemp    0\n",
              "dtype: int64"
            ]
          },
          "metadata": {},
          "execution_count": 37
        }
      ]
    },
    {
      "cell_type": "markdown",
      "source": [
        "### SCALING"
      ],
      "metadata": {
        "id": "a1jAhJSHg6Sb"
      }
    },
    {
      "cell_type": "code",
      "source": [
        "train_data.shape"
      ],
      "metadata": {
        "colab": {
          "base_uri": "https://localhost:8080/"
        },
        "id": "4NqQ3sD3egyQ",
        "outputId": "da797964-53c4-4140-fbd6-0e2af3f54142"
      },
      "execution_count": null,
      "outputs": [
        {
          "output_type": "execute_result",
          "data": {
            "text/plain": [
              "(75757, 30)"
            ]
          },
          "metadata": {},
          "execution_count": 38
        }
      ]
    },
    {
      "cell_type": "code",
      "source": [
        "features = ['days_below_30F', 'days_below_20F', 'days_below_10F', 'heating_degree_days']"
      ],
      "metadata": {
        "id": "TSujf2ashqFx"
      },
      "execution_count": null,
      "outputs": []
    },
    {
      "cell_type": "code",
      "source": [
        "from sklearn.preprocessing import StandardScaler\n",
        "train_data_tmp = train_data.loc[:,features].values\n",
        "train_data_tmp = StandardScaler().fit_transform(train_data_tmp)\n",
        "np.mean(train_data_tmp), np.std(train_data_tmp)"
      ],
      "metadata": {
        "colab": {
          "base_uri": "https://localhost:8080/"
        },
        "id": "35vhF-k_g9YZ",
        "outputId": "7160ec9a-74a8-4c40-93e6-def6de6b371e"
      },
      "execution_count": null,
      "outputs": [
        {
          "output_type": "execute_result",
          "data": {
            "text/plain": [
              "(2.2510164946133566e-17, 1.0)"
            ]
          },
          "metadata": {},
          "execution_count": 40
        }
      ]
    },
    {
      "cell_type": "code",
      "source": [
        "feat_col = ['feature'+str(i) for i in range(train_data_tmp.shape[1])]"
      ],
      "metadata": {
        "id": "ZiRNKFFnh_3V"
      },
      "execution_count": null,
      "outputs": []
    },
    {
      "cell_type": "code",
      "source": [],
      "metadata": {
        "id": "v5v-V47_yCO9"
      },
      "execution_count": null,
      "outputs": []
    },
    {
      "cell_type": "code",
      "source": [
        "from sklearn.decomposition import PCA\n",
        "pca = PCA(n_components=1)\n",
        "train_data['Cold_PCA'] = pca.fit_transform(train_data_tmp)\n",
        "print('Explained variation per principal component: {}'.format(pca.explained_variance_ratio_))"
      ],
      "metadata": {
        "colab": {
          "base_uri": "https://localhost:8080/"
        },
        "id": "F3mJf5DviCn2",
        "outputId": "eae12d4a-d025-4fc0-a23b-9ac194fa135d"
      },
      "execution_count": null,
      "outputs": [
        {
          "output_type": "stream",
          "name": "stdout",
          "text": [
            "Explained variation per principal component: [0.84591557]\n"
          ]
        }
      ]
    },
    {
      "cell_type": "code",
      "source": [
        "train_data['Cold_PCA'].head(10)"
      ],
      "metadata": {
        "colab": {
          "base_uri": "https://localhost:8080/"
        },
        "id": "BfCT0dnsilro",
        "outputId": "ef310003-a80d-4cd6-a7ec-d537ec6b8282"
      },
      "execution_count": null,
      "outputs": [
        {
          "output_type": "execute_result",
          "data": {
            "text/plain": [
              "0   -2.659102\n",
              "1   -2.659102\n",
              "2   -2.659102\n",
              "3   -2.659102\n",
              "4   -2.659102\n",
              "5   -2.659102\n",
              "6   -2.659102\n",
              "7   -2.659102\n",
              "8   -2.659102\n",
              "9   -2.659102\n",
              "Name: Cold_PCA, dtype: float64"
            ]
          },
          "metadata": {},
          "execution_count": 43
        }
      ]
    },
    {
      "cell_type": "markdown",
      "source": [
        "DROPPING FEATURES - A list mentioned above"
      ],
      "metadata": {
        "id": "vSrj27oWixum"
      }
    },
    {
      "cell_type": "code",
      "source": [
        "train_data.drop(features,axis=1,inplace=True)"
      ],
      "metadata": {
        "id": "-3-SoAZ3i5B-"
      },
      "execution_count": null,
      "outputs": []
    },
    {
      "cell_type": "code",
      "source": [
        "train_data.shape"
      ],
      "metadata": {
        "colab": {
          "base_uri": "https://localhost:8080/"
        },
        "id": "uCfeiIqyen-2",
        "outputId": "c46f45bd-25e7-4a7a-d168-65b1ebf74894"
      },
      "execution_count": null,
      "outputs": [
        {
          "output_type": "execute_result",
          "data": {
            "text/plain": [
              "(75757, 27)"
            ]
          },
          "metadata": {},
          "execution_count": 45
        }
      ]
    },
    {
      "cell_type": "markdown",
      "source": [
        "### Droping Duplicates"
      ],
      "metadata": {
        "id": "KVHswK6BjNze"
      }
    },
    {
      "cell_type": "code",
      "source": [
        "train_data.drop_duplicates(inplace=True)"
      ],
      "metadata": {
        "id": "e79x3e6UjNai"
      },
      "execution_count": null,
      "outputs": []
    },
    {
      "cell_type": "code",
      "source": [
        "train_data.shape"
      ],
      "metadata": {
        "id": "gLcq6fhujUGY"
      },
      "execution_count": null,
      "outputs": []
    },
    {
      "cell_type": "markdown",
      "source": [
        "SAVING THE DATA"
      ],
      "metadata": {
        "id": "tO9wA4inkDR6"
      }
    },
    {
      "cell_type": "code",
      "source": [
        "train_data.to_csv('train1.csv')"
      ],
      "metadata": {
        "id": "M7UxJ1XSkC8f"
      },
      "execution_count": null,
      "outputs": []
    },
    {
      "cell_type": "markdown",
      "source": [
        "### Training"
      ],
      "metadata": {
        "id": "COfsFqJlg2zE"
      }
    },
    {
      "cell_type": "code",
      "source": [
        "def rmse(y_actual, y_pred):\n",
        "  \"\"\"\n",
        "  Wrtier: Dongyeun Kum\n",
        "  Description: Calculates RMSE for a given model\n",
        "  \"\"\"\n",
        "  from sklearn.metrics import mean_squared_error\n",
        "  from math import sqrt\n",
        "\n",
        "  rmse = sqrt(mean_squared_error(y_actual, y_pred))\n",
        "\n",
        "  return rmse"
      ],
      "metadata": {
        "id": "8UKPkpWWgHn6"
      },
      "execution_count": null,
      "outputs": []
    },
    {
      "cell_type": "code",
      "source": [
        "from sklearn.ensemble import GradientBoostingRegressor\n",
        "from sklearn.model_selection import train_test_split\n",
        "\n",
        "target = 'site_eui'\n",
        "\n",
        "X = train_lgbmimp.drop(target, axis=1)\n",
        "y = train_lgbmimp[target]\n",
        "X_train, X_test, y_train, y_test = train_test_split(X, y, test_size = 0.3, random_state=42)\n",
        "\n",
        "model = GradientBoostingRegressor()\n",
        "model.fit(X_train, y_train)\n",
        "y_pred = model.predict(X_test)\n",
        "error = rmse(y_test, y_pred)\n",
        "error"
      ],
      "metadata": {
        "colab": {
          "base_uri": "https://localhost:8080/"
        },
        "id": "WDbxZAJbf6tb",
        "outputId": "e5b1ae1a-e410-4255-d669-0a2116dbe985"
      },
      "execution_count": null,
      "outputs": [
        {
          "output_type": "execute_result",
          "data": {
            "text/plain": [
              "8.820574281899285"
            ]
          },
          "metadata": {},
          "execution_count": 50
        }
      ]
    },
    {
      "cell_type": "code",
      "source": [],
      "metadata": {
        "id": "WJYdMZkPpEAC"
      },
      "execution_count": null,
      "outputs": []
    },
    {
      "cell_type": "code",
      "source": [
        "from sklearn.preprocessing import StandardScaler, MinMaxScaler, LabelEncoder\n",
        "from sklearn.decomposition import PCA\n",
        "from sklearn.linear_model import Lasso\n",
        "from sklearn.feature_selection import SelectFromModel\n",
        "from sklearn.model_selection import train_test_split\n",
        "from sklearn.linear_model import LinearRegression\n",
        "from sklearn.ensemble import RandomForestRegressor\n",
        "import xgboost as xgb\n",
        "from sklearn import metrics"
      ],
      "metadata": {
        "id": "I3NmwpyklCow"
      },
      "execution_count": null,
      "outputs": []
    },
    {
      "cell_type": "code",
      "source": [
        "lr = LinearRegression()\n",
        "lr.fit(X_train, y_train)\n",
        "\n",
        "print('Linear Regression Train Score :', lr.score(X_train, y_train))\n",
        "print('Linear Regression Test Score :', lr.score(X_test, y_test))\n",
        "\n",
        "y_pred1 = lr.predict(X_test)\n",
        "RMSE1 = np.sqrt(metrics.mean_squared_error(y_test, y_pred1))\n",
        "print('RMSE Value :', RMSE1)"
      ],
      "metadata": {
        "id": "Uv1xxxy7gBGW",
        "colab": {
          "base_uri": "https://localhost:8080/"
        },
        "outputId": "81ac4b96-cd54-4618-9979-1e16614c9a25"
      },
      "execution_count": null,
      "outputs": [
        {
          "output_type": "stream",
          "name": "stdout",
          "text": [
            "Linear Regression Train Score : 0.3066815912873151\n",
            "Linear Regression Test Score : 0.2628010767522695\n",
            "RMSE Value : 48.575750100875695\n"
          ]
        }
      ]
    },
    {
      "cell_type": "code",
      "source": [],
      "metadata": {
        "id": "0y_wtpXRpDHC"
      },
      "execution_count": null,
      "outputs": []
    },
    {
      "cell_type": "code",
      "source": [
        "rf = RandomForestRegressor(n_estimators=700, max_depth=10, random_state=42)\n",
        "rf.fit(X_train, y_train)\n",
        "\n",
        "print('Random Forest Regressor Train Score :', rf.score(X_train, y_train))\n",
        "print('Random Forest Regressor Test Score :', rf.score(X_test, y_test))\n",
        "\n",
        "y_pred2 = rf.predict(X_test)\n",
        "RMSE2 = np.sqrt(metrics.mean_squared_error(y_test, y_pred2))\n",
        "print('RMSE Value :', RMSE2)"
      ],
      "metadata": {
        "colab": {
          "base_uri": "https://localhost:8080/"
        },
        "id": "UPWxkXNWlEer",
        "outputId": "0290f9c8-0079-412d-e40b-59033a765abb"
      },
      "execution_count": null,
      "outputs": [
        {
          "output_type": "stream",
          "name": "stdout",
          "text": [
            "Random Forest Regressor Train Score : 0.9924105501644459\n",
            "Random Forest Regressor Test Score : 0.9855295645553963\n",
            "RMSE Value : 6.8056242861059415\n"
          ]
        }
      ]
    },
    {
      "cell_type": "code",
      "source": [],
      "metadata": {
        "id": "Ku9jL7TPpCi0"
      },
      "execution_count": null,
      "outputs": []
    },
    {
      "cell_type": "code",
      "source": [
        "xg = xgb.XGBRegressor(objective = 'reg:squarederror', n_estimators=700, max_depth=10, seed=42)\n",
        "xg.fit(X_train, y_train)\n",
        "\n",
        "print('xgboost Regressor Train Score :', xg.score(X_train, y_train))\n",
        "print('xgboost Regressor Test Score :', xg.score(X_test, y_test))\n",
        "\n",
        "y_pred3 = xg.predict(X_test)\n",
        "RMSE3 = np.sqrt(metrics.mean_squared_error(y_test, y_pred3))\n",
        "print('RMSE value :', RMSE3)"
      ],
      "metadata": {
        "colab": {
          "base_uri": "https://localhost:8080/"
        },
        "id": "QKVcq7ctlkOX",
        "outputId": "45ce44c0-ce19-497a-9b7b-5b5d4ba0388b"
      },
      "execution_count": null,
      "outputs": [
        {
          "output_type": "stream",
          "name": "stdout",
          "text": [
            "xgboost Regressor Train Score : 0.9999851073180371\n",
            "xgboost Regressor Test Score : 0.9948312983231088\n",
            "RMSE value : 4.0674095393198435\n"
          ]
        }
      ]
    },
    {
      "cell_type": "code",
      "source": [],
      "metadata": {
        "id": "28NsALWxng8L"
      },
      "execution_count": null,
      "outputs": []
    }
  ]
}